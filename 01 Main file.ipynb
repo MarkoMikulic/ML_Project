{
 "cells": [
  {
   "cell_type": "markdown",
   "metadata": {},
   "source": [
    "Melbourne Airbnb Price Prediction\n",
    "\n",
    "Author: Marko Mikulic 1011/18"
   ]
  },
  {
   "cell_type": "code",
   "execution_count": 133,
   "metadata": {},
   "outputs": [],
   "source": [
    "import numpy as np\n",
    "import pandas as pd\n",
    "from matplotlib import pyplot as plt\n",
    "\n",
    "import pickle\n",
    "from sklearn import linear_model\n",
    "from sklearn import model_selection\n",
    "from sklearn import metrics\n",
    "from sklearn.preprocessing import StandardScaler\n",
    "from sklearn.pipeline import Pipeline\n",
    "from sklearn.model_selection import train_test_split, GridSearchCV\n",
    "from sklearn.linear_model import Lasso\n",
    "from sklearn import preprocessing\n",
    "from sklearn.linear_model import Ridge\n",
    "from sklearn import tree\n",
    "from sklearn import ensemble\n",
    "from sklearn.model_selection import cross_val_score\n",
    "from sklearn.model_selection import RepeatedKFold\n",
    "from sklearn.ensemble import GradientBoostingRegressor\n",
    "from datetime import datetime\n",
    "import itertools\n",
    "\n"
   ]
  },
  {
   "cell_type": "code",
   "execution_count": 31,
   "metadata": {},
   "outputs": [
    {
     "name": "stderr",
     "output_type": "stream",
     "text": [
      "c:\\users\\marko mikulic\\appdata\\local\\programs\\python\\python38\\lib\\site-packages\\IPython\\core\\interactiveshell.py:3145: DtypeWarning: Columns (35,77) have mixed types.Specify dtype option on import or set low_memory=False.\n",
      "  has_raised = await self.run_ast_nodes(code_ast.body, cell_name,\n"
     ]
    }
   ],
   "source": [
    "data = pd.read_csv(\"cleansed_listings_dec18.csv\")"
   ]
  },
  {
   "cell_type": "code",
   "execution_count": 32,
   "metadata": {},
   "outputs": [
    {
     "name": "stdout",
     "output_type": "stream",
     "text": [
      "<class 'pandas.core.frame.DataFrame'>\n",
      "RangeIndex: 22895 entries, 0 to 22894\n",
      "Data columns (total 84 columns):\n",
      " #   Column                            Non-Null Count  Dtype  \n",
      "---  ------                            --------------  -----  \n",
      " 0   id                                22895 non-null  int64  \n",
      " 1   listing_url                       22895 non-null  object \n",
      " 2   scrape_id                         22895 non-null  float64\n",
      " 3   last_scraped                      22895 non-null  object \n",
      " 4   name                              22892 non-null  object \n",
      " 5   summary                           22199 non-null  object \n",
      " 6   space                             16844 non-null  object \n",
      " 7   description                       22563 non-null  object \n",
      " 8   neighborhood_overview             14424 non-null  object \n",
      " 9   notes                             11546 non-null  object \n",
      " 10  transit                           14943 non-null  object \n",
      " 11  access                            15168 non-null  object \n",
      " 12  interaction                       14537 non-null  object \n",
      " 13  house_rules                       15032 non-null  object \n",
      " 14  picture_url                       22895 non-null  object \n",
      " 15  host_id                           22895 non-null  int64  \n",
      " 16  host_url                          22895 non-null  object \n",
      " 17  host_name                         22892 non-null  object \n",
      " 18  host_since                        22892 non-null  object \n",
      " 19  host_location                     22869 non-null  object \n",
      " 20  host_about                        13730 non-null  object \n",
      " 21  host_response_time                15589 non-null  object \n",
      " 22  host_response_rate                15589 non-null  object \n",
      " 23  host_is_superhost                 22892 non-null  object \n",
      " 24  host_thumbnail_url                22892 non-null  object \n",
      " 25  host_picture_url                  22892 non-null  object \n",
      " 26  host_neighborhood                 14927 non-null  object \n",
      " 27  host_verifications                22895 non-null  object \n",
      " 28  host_has_profile_pic              22892 non-null  object \n",
      " 29  host_identity_verified            22892 non-null  object \n",
      " 30  street                            22895 non-null  object \n",
      " 31  neighborhood                      17082 non-null  object \n",
      " 32  city                              22895 non-null  object \n",
      " 33  suburb                            22872 non-null  object \n",
      " 34  state                             22834 non-null  object \n",
      " 35  zipcode                           22753 non-null  object \n",
      " 36  smart_location                    22895 non-null  object \n",
      " 37  country_code                      22895 non-null  object \n",
      " 38  country                           22895 non-null  object \n",
      " 39  latitude                          22895 non-null  float64\n",
      " 40  longitude                         22895 non-null  float64\n",
      " 41  is_location_exact                 22895 non-null  object \n",
      " 42  property_type                     22895 non-null  object \n",
      " 43  room_type                         22895 non-null  object \n",
      " 44  accommodates                      22895 non-null  int64  \n",
      " 45  bathrooms                         22878 non-null  float64\n",
      " 46  bedrooms                          22890 non-null  float64\n",
      " 47  beds                              22861 non-null  float64\n",
      " 48  bed_type                          22895 non-null  object \n",
      " 49  amenities                         22895 non-null  object \n",
      " 50  price                             22895 non-null  int64  \n",
      " 51  weekly_price                      2524 non-null   float64\n",
      " 52  monthly_price                     1891 non-null   float64\n",
      " 53  security_deposit                  15401 non-null  float64\n",
      " 54  cleaning_fee                      17249 non-null  float64\n",
      " 55  guests_included                   22895 non-null  int64  \n",
      " 56  extra_people                      22895 non-null  int64  \n",
      " 57  minimum_nights                    22895 non-null  int64  \n",
      " 58  maximum_nights                    22895 non-null  int64  \n",
      " 59  calendar_updated                  22895 non-null  object \n",
      " 60  has_availability                  22895 non-null  object \n",
      " 61  availability_30                   22895 non-null  int64  \n",
      " 62  availability_60                   22895 non-null  int64  \n",
      " 63  availability_90                   22895 non-null  int64  \n",
      " 64  availability_365                  22895 non-null  int64  \n",
      " 65  calendar_last_scraped             22895 non-null  object \n",
      " 66  number_of_reviews                 22895 non-null  int64  \n",
      " 67  first_review                      17653 non-null  object \n",
      " 68  last_review                       17653 non-null  object \n",
      " 69  review_scores_rating              17189 non-null  float64\n",
      " 70  review_scores_accuracy            17175 non-null  float64\n",
      " 71  review_scores_cleanliness         17182 non-null  float64\n",
      " 72  review_scores_checkin             17161 non-null  float64\n",
      " 73  review_scores_communication       17177 non-null  float64\n",
      " 74  review_scores_location            17162 non-null  float64\n",
      " 75  review_scores_value               17160 non-null  float64\n",
      " 76  requires_license                  22895 non-null  object \n",
      " 77  license                           21 non-null     object \n",
      " 78  instant_bookable                  22895 non-null  object \n",
      " 79  cancellation_policy               22895 non-null  object \n",
      " 80  require_guest_profile_picture     22895 non-null  object \n",
      " 81  require_guest_phone_verification  22895 non-null  object \n",
      " 82  calculated_host_listings_count    22895 non-null  int64  \n",
      " 83  reviews_per_month                 17653 non-null  float64\n",
      "dtypes: float64(18), int64(14), object(52)\n",
      "memory usage: 14.7+ MB\n"
     ]
    }
   ],
   "source": [
    "data.info()"
   ]
  },
  {
   "cell_type": "code",
   "execution_count": 33,
   "metadata": {},
   "outputs": [
    {
     "data": {
      "text/html": [
       "<div>\n",
       "<style scoped>\n",
       "    .dataframe tbody tr th:only-of-type {\n",
       "        vertical-align: middle;\n",
       "    }\n",
       "\n",
       "    .dataframe tbody tr th {\n",
       "        vertical-align: top;\n",
       "    }\n",
       "\n",
       "    .dataframe thead th {\n",
       "        text-align: right;\n",
       "    }\n",
       "</style>\n",
       "<table border=\"1\" class=\"dataframe\">\n",
       "  <thead>\n",
       "    <tr style=\"text-align: right;\">\n",
       "      <th></th>\n",
       "      <th>id</th>\n",
       "      <th>listing_url</th>\n",
       "      <th>scrape_id</th>\n",
       "      <th>last_scraped</th>\n",
       "      <th>name</th>\n",
       "      <th>summary</th>\n",
       "      <th>space</th>\n",
       "      <th>description</th>\n",
       "      <th>neighborhood_overview</th>\n",
       "      <th>notes</th>\n",
       "      <th>...</th>\n",
       "      <th>review_scores_location</th>\n",
       "      <th>review_scores_value</th>\n",
       "      <th>requires_license</th>\n",
       "      <th>license</th>\n",
       "      <th>instant_bookable</th>\n",
       "      <th>cancellation_policy</th>\n",
       "      <th>require_guest_profile_picture</th>\n",
       "      <th>require_guest_phone_verification</th>\n",
       "      <th>calculated_host_listings_count</th>\n",
       "      <th>reviews_per_month</th>\n",
       "    </tr>\n",
       "  </thead>\n",
       "  <tbody>\n",
       "    <tr>\n",
       "      <th>0</th>\n",
       "      <td>9835</td>\n",
       "      <td>https://www.airbnb.com/rooms/9835</td>\n",
       "      <td>2.018120e+13</td>\n",
       "      <td>12/7/2018</td>\n",
       "      <td>Beautiful Room &amp; House</td>\n",
       "      <td>NaN</td>\n",
       "      <td>House: Clean, New, Modern, Quite, Safe. 10Km f...</td>\n",
       "      <td>House: Clean, New, Modern, Quite, Safe. 10Km f...</td>\n",
       "      <td>Very safe! Family oriented. Older age group.</td>\n",
       "      <td>NaN</td>\n",
       "      <td>...</td>\n",
       "      <td>9.0</td>\n",
       "      <td>9.0</td>\n",
       "      <td>f</td>\n",
       "      <td>NaN</td>\n",
       "      <td>f</td>\n",
       "      <td>strict_14_with_grace_period</td>\n",
       "      <td>f</td>\n",
       "      <td>f</td>\n",
       "      <td>1</td>\n",
       "      <td>0.04</td>\n",
       "    </tr>\n",
       "    <tr>\n",
       "      <th>1</th>\n",
       "      <td>10803</td>\n",
       "      <td>https://www.airbnb.com/rooms/10803</td>\n",
       "      <td>2.018120e+13</td>\n",
       "      <td>12/7/2018</td>\n",
       "      <td>Room in Cool Deco Apartment in Brunswick</td>\n",
       "      <td>A large air conditioned room with queen spring...</td>\n",
       "      <td>The apartment is Deco/Edwardian in style and h...</td>\n",
       "      <td>A large air conditioned room with queen spring...</td>\n",
       "      <td>This hip area is a crossroads between two grea...</td>\n",
       "      <td>NaN</td>\n",
       "      <td>...</td>\n",
       "      <td>9.0</td>\n",
       "      <td>9.0</td>\n",
       "      <td>f</td>\n",
       "      <td>NaN</td>\n",
       "      <td>t</td>\n",
       "      <td>moderate</td>\n",
       "      <td>t</td>\n",
       "      <td>t</td>\n",
       "      <td>1</td>\n",
       "      <td>1.50</td>\n",
       "    </tr>\n",
       "    <tr>\n",
       "      <th>2</th>\n",
       "      <td>12936</td>\n",
       "      <td>https://www.airbnb.com/rooms/12936</td>\n",
       "      <td>2.018120e+13</td>\n",
       "      <td>12/7/2018</td>\n",
       "      <td>St Kilda 1BR APT+BEACHSIDE+VIEWS+PARKING+WIFI+AC</td>\n",
       "      <td>RIGHT IN THE HEART OF ST KILDA! It doesn't get...</td>\n",
       "      <td>FREE WiFi FREE in-building remote controlled g...</td>\n",
       "      <td>RIGHT IN THE HEART OF ST KILDA! It doesn't get...</td>\n",
       "      <td>A stay at our apartment means you can enjoy so...</td>\n",
       "      <td>First floor apartment with both lift and stair...</td>\n",
       "      <td>...</td>\n",
       "      <td>9.0</td>\n",
       "      <td>9.0</td>\n",
       "      <td>f</td>\n",
       "      <td>NaN</td>\n",
       "      <td>f</td>\n",
       "      <td>strict_14_with_grace_period</td>\n",
       "      <td>f</td>\n",
       "      <td>f</td>\n",
       "      <td>17</td>\n",
       "      <td>0.15</td>\n",
       "    </tr>\n",
       "    <tr>\n",
       "      <th>3</th>\n",
       "      <td>15246</td>\n",
       "      <td>https://www.airbnb.com/rooms/15246</td>\n",
       "      <td>2.018120e+13</td>\n",
       "      <td>12/7/2018</td>\n",
       "      <td>Large private room-close to city</td>\n",
       "      <td>Comfortable, relaxed house, a home away from  ...</td>\n",
       "      <td>The atmosphere is relaxed and easy going. You ...</td>\n",
       "      <td>Comfortable, relaxed house, a home away from  ...</td>\n",
       "      <td>This is a great neighbourhood – it is quiet, y...</td>\n",
       "      <td>A simple self service breakfast is available –...</td>\n",
       "      <td>...</td>\n",
       "      <td>9.0</td>\n",
       "      <td>9.0</td>\n",
       "      <td>f</td>\n",
       "      <td>NaN</td>\n",
       "      <td>f</td>\n",
       "      <td>moderate</td>\n",
       "      <td>f</td>\n",
       "      <td>f</td>\n",
       "      <td>3</td>\n",
       "      <td>0.30</td>\n",
       "    </tr>\n",
       "    <tr>\n",
       "      <th>4</th>\n",
       "      <td>16760</td>\n",
       "      <td>https://www.airbnb.com/rooms/16760</td>\n",
       "      <td>2.018120e+13</td>\n",
       "      <td>12/7/2018</td>\n",
       "      <td>Melbourne BnB near City &amp; Sports</td>\n",
       "      <td>NaN</td>\n",
       "      <td>We offer comfortable accommodation in Inner Me...</td>\n",
       "      <td>We offer comfortable accommodation in Inner Me...</td>\n",
       "      <td>NaN</td>\n",
       "      <td>NaN</td>\n",
       "      <td>...</td>\n",
       "      <td>10.0</td>\n",
       "      <td>9.0</td>\n",
       "      <td>f</td>\n",
       "      <td>NaN</td>\n",
       "      <td>f</td>\n",
       "      <td>moderate</td>\n",
       "      <td>f</td>\n",
       "      <td>f</td>\n",
       "      <td>1</td>\n",
       "      <td>0.74</td>\n",
       "    </tr>\n",
       "  </tbody>\n",
       "</table>\n",
       "<p>5 rows × 84 columns</p>\n",
       "</div>"
      ],
      "text/plain": [
       "      id                         listing_url     scrape_id last_scraped  \\\n",
       "0   9835   https://www.airbnb.com/rooms/9835  2.018120e+13    12/7/2018   \n",
       "1  10803  https://www.airbnb.com/rooms/10803  2.018120e+13    12/7/2018   \n",
       "2  12936  https://www.airbnb.com/rooms/12936  2.018120e+13    12/7/2018   \n",
       "3  15246  https://www.airbnb.com/rooms/15246  2.018120e+13    12/7/2018   \n",
       "4  16760  https://www.airbnb.com/rooms/16760  2.018120e+13    12/7/2018   \n",
       "\n",
       "                                               name  \\\n",
       "0                            Beautiful Room & House   \n",
       "1          Room in Cool Deco Apartment in Brunswick   \n",
       "2  St Kilda 1BR APT+BEACHSIDE+VIEWS+PARKING+WIFI+AC   \n",
       "3                  Large private room-close to city   \n",
       "4                  Melbourne BnB near City & Sports   \n",
       "\n",
       "                                             summary  \\\n",
       "0                                                NaN   \n",
       "1  A large air conditioned room with queen spring...   \n",
       "2  RIGHT IN THE HEART OF ST KILDA! It doesn't get...   \n",
       "3  Comfortable, relaxed house, a home away from  ...   \n",
       "4                                                NaN   \n",
       "\n",
       "                                               space  \\\n",
       "0  House: Clean, New, Modern, Quite, Safe. 10Km f...   \n",
       "1  The apartment is Deco/Edwardian in style and h...   \n",
       "2  FREE WiFi FREE in-building remote controlled g...   \n",
       "3  The atmosphere is relaxed and easy going. You ...   \n",
       "4  We offer comfortable accommodation in Inner Me...   \n",
       "\n",
       "                                         description  \\\n",
       "0  House: Clean, New, Modern, Quite, Safe. 10Km f...   \n",
       "1  A large air conditioned room with queen spring...   \n",
       "2  RIGHT IN THE HEART OF ST KILDA! It doesn't get...   \n",
       "3  Comfortable, relaxed house, a home away from  ...   \n",
       "4  We offer comfortable accommodation in Inner Me...   \n",
       "\n",
       "                               neighborhood_overview  \\\n",
       "0       Very safe! Family oriented. Older age group.   \n",
       "1  This hip area is a crossroads between two grea...   \n",
       "2  A stay at our apartment means you can enjoy so...   \n",
       "3  This is a great neighbourhood – it is quiet, y...   \n",
       "4                                                NaN   \n",
       "\n",
       "                                               notes  ...  \\\n",
       "0                                                NaN  ...   \n",
       "1                                                NaN  ...   \n",
       "2  First floor apartment with both lift and stair...  ...   \n",
       "3  A simple self service breakfast is available –...  ...   \n",
       "4                                                NaN  ...   \n",
       "\n",
       "  review_scores_location review_scores_value requires_license license  \\\n",
       "0                    9.0                 9.0                f     NaN   \n",
       "1                    9.0                 9.0                f     NaN   \n",
       "2                    9.0                 9.0                f     NaN   \n",
       "3                    9.0                 9.0                f     NaN   \n",
       "4                   10.0                 9.0                f     NaN   \n",
       "\n",
       "  instant_bookable          cancellation_policy require_guest_profile_picture  \\\n",
       "0                f  strict_14_with_grace_period                             f   \n",
       "1                t                     moderate                             t   \n",
       "2                f  strict_14_with_grace_period                             f   \n",
       "3                f                     moderate                             f   \n",
       "4                f                     moderate                             f   \n",
       "\n",
       "  require_guest_phone_verification calculated_host_listings_count  \\\n",
       "0                                f                              1   \n",
       "1                                t                              1   \n",
       "2                                f                             17   \n",
       "3                                f                              3   \n",
       "4                                f                              1   \n",
       "\n",
       "  reviews_per_month  \n",
       "0              0.04  \n",
       "1              1.50  \n",
       "2              0.15  \n",
       "3              0.30  \n",
       "4              0.74  \n",
       "\n",
       "[5 rows x 84 columns]"
      ]
     },
     "execution_count": 33,
     "metadata": {},
     "output_type": "execute_result"
    }
   ],
   "source": [
    "data.head()"
   ]
  },
  {
   "cell_type": "code",
   "execution_count": 34,
   "metadata": {},
   "outputs": [],
   "source": [
    "data = data.dropna(thresh=len(data) - 2290, axis=1) # removing all columns with more than 10% (~2290) nan values"
   ]
  },
  {
   "cell_type": "code",
   "execution_count": 35,
   "metadata": {},
   "outputs": [],
   "source": [
    "id_type_columns = ['id','listing_url','scrape_id','last_scraped','name','summary','description','picture_url','host_id','host_url','host_name','host_thumbnail_url','host_picture_url','amenities',\"country_code\",\"country\",\"calendar_updated\",'has_availability','requires_license']"
   ]
  },
  {
   "cell_type": "code",
   "execution_count": 36,
   "metadata": {},
   "outputs": [],
   "source": [
    "data = data.drop(columns=id_type_columns) #removing features that are not related to price, for instance, host_id and scrape_id"
   ]
  },
  {
   "cell_type": "code",
   "execution_count": 37,
   "metadata": {},
   "outputs": [
    {
     "data": {
      "text/plain": [
       "Index(['host_since', 'host_location', 'host_is_superhost',\n",
       "       'host_verifications', 'host_has_profile_pic', 'host_identity_verified',\n",
       "       'street', 'city', 'suburb', 'state', 'zipcode', 'smart_location',\n",
       "       'latitude', 'longitude', 'is_location_exact', 'property_type',\n",
       "       'room_type', 'accommodates', 'bathrooms', 'bedrooms', 'beds',\n",
       "       'bed_type', 'price', 'guests_included', 'extra_people',\n",
       "       'minimum_nights', 'maximum_nights', 'availability_30',\n",
       "       'availability_60', 'availability_90', 'availability_365',\n",
       "       'calendar_last_scraped', 'number_of_reviews', 'instant_bookable',\n",
       "       'cancellation_policy', 'require_guest_profile_picture',\n",
       "       'require_guest_phone_verification', 'calculated_host_listings_count'],\n",
       "      dtype='object')"
      ]
     },
     "execution_count": 37,
     "metadata": {},
     "output_type": "execute_result"
    }
   ],
   "source": [
    "data.columns"
   ]
  },
  {
   "cell_type": "code",
   "execution_count": 38,
   "metadata": {},
   "outputs": [
    {
     "data": {
      "image/png": "[encoded data removed]",
      "text/plain": [
       "<Figure size 432x288 with 1 Axes>"
      ]
     },
     "metadata": {
      "needs_background": "light"
     },
     "output_type": "display_data"
    }
   ],
   "source": [
    "# Distribution of prices\n",
    "\n",
    "plt.plot(data['price'])\n",
    "plt.show()"
   ]
  },
  {
   "cell_type": "code",
   "execution_count": 39,
   "metadata": {},
   "outputs": [],
   "source": [
    "# Removing all the listings with price higher than $1000 or with price of $0, in order to remove outliers.\n",
    "\n",
    "data = data[data['price']<=1000] \n",
    "data = data[data['price']>0]"
   ]
  },
  {
   "cell_type": "code",
   "execution_count": 40,
   "metadata": {},
   "outputs": [
    {
     "data": {
      "text/plain": [
       "0                            ['email', 'phone', 'reviews']\n",
       "1        ['email', 'phone', 'reviews', 'jumio', 'govern...\n",
       "2        ['email', 'phone', 'google', 'reviews', 'jumio...\n",
       "3        ['email', 'phone', 'facebook', 'reviews', 'jum...\n",
       "4        ['email', 'phone', 'facebook', 'reviews', 'jum...\n",
       "                               ...                        \n",
       "22890                                   ['email', 'phone']\n",
       "22891                        ['email', 'phone', 'reviews']\n",
       "22892                        ['email', 'phone', 'reviews']\n",
       "22893    ['email', 'phone', 'reviews', 'offline_governm...\n",
       "22894    ['email', 'phone', 'facebook', 'jumio', 'gover...\n",
       "Name: host_verifications, Length: 22777, dtype: object"
      ]
     },
     "execution_count": 40,
     "metadata": {},
     "output_type": "execute_result"
    }
   ],
   "source": [
    "data[\"host_verifications\"]"
   ]
  },
  {
   "cell_type": "code",
   "execution_count": 41,
   "metadata": {},
   "outputs": [],
   "source": [
    "data = data.dropna() # removing listings with no value"
   ]
  },
  {
   "cell_type": "code",
   "execution_count": 42,
   "metadata": {},
   "outputs": [],
   "source": [
    "# transform host_verifications, from a list of verficitation options to the number of verification options\n",
    "def host_verification_transformation(x):\n",
    "    return len(x)\n",
    "\n",
    "data[\"host_verifications\"] = data[\"host_verifications\"].transform(host_verification_transformation)"
   ]
  },
  {
   "cell_type": "code",
   "execution_count": 43,
   "metadata": {},
   "outputs": [
    {
     "data": {
      "text/plain": [
       "0         29\n",
       "1         55\n",
       "2         79\n",
       "3        106\n",
       "4         92\n",
       "        ... \n",
       "22890     18\n",
       "22891     29\n",
       "22892     29\n",
       "22893    100\n",
       "22894     56\n",
       "Name: host_verifications, Length: 22501, dtype: int64"
      ]
     },
     "execution_count": 43,
     "metadata": {},
     "output_type": "execute_result"
    }
   ],
   "source": [
    "data[\"host_verifications\"]"
   ]
  },
  {
   "cell_type": "code",
   "execution_count": 44,
   "metadata": {},
   "outputs": [],
   "source": [
    "# transform host_since, from a date to the number of days between hist_since and the date the data was extracted.\n",
    "\n",
    "date_format = \"%m/%d/%Y\"\n",
    "\n",
    "base_date = datetime.strptime(\"10/10/2019\", date_format)\n",
    "\n",
    "def host_since_transformation(s):\n",
    "    host_date = datetime.strptime(s, date_format)\n",
    "    time_in_days = base_date - host_date\n",
    "    return (time_in_days.days)\n",
    "\n",
    "data[\"host_since\"] = data[\"host_since\"].transform(host_since_transformation)"
   ]
  },
  {
   "cell_type": "code",
   "execution_count": 45,
   "metadata": {},
   "outputs": [
    {
     "data": {
      "text/plain": [
       "0        3702\n",
       "1        3676\n",
       "2        3631\n",
       "3        3598\n",
       "4        3579\n",
       "         ... \n",
       "22890     309\n",
       "22891     755\n",
       "22892     878\n",
       "22893    1820\n",
       "22894    1550\n",
       "Name: host_since, Length: 22501, dtype: int64"
      ]
     },
     "execution_count": 45,
     "metadata": {},
     "output_type": "execute_result"
    }
   ],
   "source": [
    "data[\"host_since\"]"
   ]
  },
  {
   "cell_type": "code",
   "execution_count": 46,
   "metadata": {},
   "outputs": [
    {
     "data": {
      "text/plain": [
       "host_since                            int64\n",
       "host_location                        object\n",
       "host_is_superhost                    object\n",
       "host_verifications                    int64\n",
       "host_has_profile_pic                 object\n",
       "host_identity_verified               object\n",
       "street                               object\n",
       "city                                 object\n",
       "suburb                               object\n",
       "state                                object\n",
       "zipcode                              object\n",
       "smart_location                       object\n",
       "latitude                            float64\n",
       "longitude                           float64\n",
       "is_location_exact                    object\n",
       "property_type                        object\n",
       "room_type                            object\n",
       "accommodates                          int64\n",
       "bathrooms                           float64\n",
       "bedrooms                            float64\n",
       "beds                                float64\n",
       "bed_type                             object\n",
       "price                                 int64\n",
       "guests_included                       int64\n",
       "extra_people                          int64\n",
       "minimum_nights                        int64\n",
       "maximum_nights                        int64\n",
       "availability_30                       int64\n",
       "availability_60                       int64\n",
       "availability_90                       int64\n",
       "availability_365                      int64\n",
       "calendar_last_scraped                object\n",
       "number_of_reviews                     int64\n",
       "instant_bookable                     object\n",
       "cancellation_policy                  object\n",
       "require_guest_profile_picture        object\n",
       "require_guest_phone_verification     object\n",
       "calculated_host_listings_count        int64\n",
       "dtype: object"
      ]
     },
     "execution_count": 46,
     "metadata": {},
     "output_type": "execute_result"
    }
   ],
   "source": [
    "data.dtypes"
   ]
  },
  {
   "cell_type": "code",
   "execution_count": 47,
   "metadata": {},
   "outputs": [],
   "source": [
    "# Creating dataframe with object type values in order to construct one-hot encoding for categorical features.\n",
    "\n",
    "obj_df = data.select_dtypes(include=['object']).copy()\n",
    "obj_df.head()\n",
    "\n",
    "object_columns = list(obj_df.columns)\n"
   ]
  },
  {
   "cell_type": "code",
   "execution_count": 48,
   "metadata": {},
   "outputs": [
    {
     "data": {
      "text/plain": [
       "['host_location',\n",
       " 'host_is_superhost',\n",
       " 'host_has_profile_pic',\n",
       " 'host_identity_verified',\n",
       " 'street',\n",
       " 'city',\n",
       " 'suburb',\n",
       " 'state',\n",
       " 'zipcode',\n",
       " 'smart_location',\n",
       " 'is_location_exact',\n",
       " 'property_type',\n",
       " 'room_type',\n",
       " 'bed_type',\n",
       " 'calendar_last_scraped',\n",
       " 'instant_bookable',\n",
       " 'cancellation_policy',\n",
       " 'require_guest_profile_picture',\n",
       " 'require_guest_phone_verification']"
      ]
     },
     "execution_count": 48,
     "metadata": {},
     "output_type": "execute_result"
    }
   ],
   "source": [
    "object_columns"
   ]
  },
  {
   "cell_type": "code",
   "execution_count": 49,
   "metadata": {},
   "outputs": [
    {
     "data": {
      "text/html": [
       "<div>\n",
       "<style scoped>\n",
       "    .dataframe tbody tr th:only-of-type {\n",
       "        vertical-align: middle;\n",
       "    }\n",
       "\n",
       "    .dataframe tbody tr th {\n",
       "        vertical-align: top;\n",
       "    }\n",
       "\n",
       "    .dataframe thead th {\n",
       "        text-align: right;\n",
       "    }\n",
       "</style>\n",
       "<table border=\"1\" class=\"dataframe\">\n",
       "  <thead>\n",
       "    <tr style=\"text-align: right;\">\n",
       "      <th></th>\n",
       "      <th>host_location</th>\n",
       "      <th>host_is_superhost</th>\n",
       "      <th>host_has_profile_pic</th>\n",
       "      <th>host_identity_verified</th>\n",
       "      <th>street</th>\n",
       "      <th>city</th>\n",
       "      <th>suburb</th>\n",
       "      <th>state</th>\n",
       "      <th>zipcode</th>\n",
       "      <th>smart_location</th>\n",
       "      <th>is_location_exact</th>\n",
       "      <th>property_type</th>\n",
       "      <th>room_type</th>\n",
       "      <th>bed_type</th>\n",
       "      <th>calendar_last_scraped</th>\n",
       "      <th>instant_bookable</th>\n",
       "      <th>cancellation_policy</th>\n",
       "      <th>require_guest_profile_picture</th>\n",
       "      <th>require_guest_phone_verification</th>\n",
       "    </tr>\n",
       "  </thead>\n",
       "  <tbody>\n",
       "    <tr>\n",
       "      <th>0</th>\n",
       "      <td>AU</td>\n",
       "      <td>f</td>\n",
       "      <td>f</td>\n",
       "      <td>f</td>\n",
       "      <td>Bulleen, VIC, Australia</td>\n",
       "      <td>Manningham</td>\n",
       "      <td>Bulleen</td>\n",
       "      <td>VIC</td>\n",
       "      <td>3105</td>\n",
       "      <td>Bulleen, Australia</td>\n",
       "      <td>f</td>\n",
       "      <td>House</td>\n",
       "      <td>Private room</td>\n",
       "      <td>Real Bed</td>\n",
       "      <td>12/7/2018</td>\n",
       "      <td>f</td>\n",
       "      <td>strict_14_with_grace_period</td>\n",
       "      <td>f</td>\n",
       "      <td>f</td>\n",
       "    </tr>\n",
       "    <tr>\n",
       "      <th>1</th>\n",
       "      <td>Melbourne, Victoria, Australia</td>\n",
       "      <td>f</td>\n",
       "      <td>t</td>\n",
       "      <td>t</td>\n",
       "      <td>Brunswick East, VIC, Australia</td>\n",
       "      <td>Moreland</td>\n",
       "      <td>Brunswick East</td>\n",
       "      <td>VIC</td>\n",
       "      <td>3057</td>\n",
       "      <td>Brunswick East, Australia</td>\n",
       "      <td>t</td>\n",
       "      <td>Apartment</td>\n",
       "      <td>Private room</td>\n",
       "      <td>Futon</td>\n",
       "      <td>12/7/2018</td>\n",
       "      <td>t</td>\n",
       "      <td>moderate</td>\n",
       "      <td>t</td>\n",
       "      <td>t</td>\n",
       "    </tr>\n",
       "    <tr>\n",
       "      <th>2</th>\n",
       "      <td>Melbourne, Victoria, Australia</td>\n",
       "      <td>t</td>\n",
       "      <td>t</td>\n",
       "      <td>t</td>\n",
       "      <td>St Kilda, VIC, Australia</td>\n",
       "      <td>Port Phillip</td>\n",
       "      <td>St Kilda</td>\n",
       "      <td>VIC</td>\n",
       "      <td>3182</td>\n",
       "      <td>St Kilda, Australia</td>\n",
       "      <td>t</td>\n",
       "      <td>Apartment</td>\n",
       "      <td>Entire home/apt</td>\n",
       "      <td>Real Bed</td>\n",
       "      <td>12/7/2018</td>\n",
       "      <td>f</td>\n",
       "      <td>strict_14_with_grace_period</td>\n",
       "      <td>f</td>\n",
       "      <td>f</td>\n",
       "    </tr>\n",
       "    <tr>\n",
       "      <th>3</th>\n",
       "      <td>Melbourne, Victoria, Australia</td>\n",
       "      <td>f</td>\n",
       "      <td>t</td>\n",
       "      <td>t</td>\n",
       "      <td>Thornbury, VIC, Australia</td>\n",
       "      <td>Darebin</td>\n",
       "      <td>Thornbury</td>\n",
       "      <td>VIC</td>\n",
       "      <td>3071</td>\n",
       "      <td>Thornbury, Australia</td>\n",
       "      <td>t</td>\n",
       "      <td>House</td>\n",
       "      <td>Private room</td>\n",
       "      <td>Real Bed</td>\n",
       "      <td>12/7/2018</td>\n",
       "      <td>f</td>\n",
       "      <td>moderate</td>\n",
       "      <td>f</td>\n",
       "      <td>f</td>\n",
       "    </tr>\n",
       "    <tr>\n",
       "      <th>4</th>\n",
       "      <td>Saint Kilda East, Victoria, Australia</td>\n",
       "      <td>f</td>\n",
       "      <td>t</td>\n",
       "      <td>t</td>\n",
       "      <td>St Kilda East, VIC, Australia</td>\n",
       "      <td>Port Phillip</td>\n",
       "      <td>St Kilda East</td>\n",
       "      <td>VIC</td>\n",
       "      <td>3183</td>\n",
       "      <td>St Kilda East, Australia</td>\n",
       "      <td>t</td>\n",
       "      <td>House</td>\n",
       "      <td>Private room</td>\n",
       "      <td>Real Bed</td>\n",
       "      <td>12/7/2018</td>\n",
       "      <td>f</td>\n",
       "      <td>moderate</td>\n",
       "      <td>f</td>\n",
       "      <td>f</td>\n",
       "    </tr>\n",
       "    <tr>\n",
       "      <th>...</th>\n",
       "      <td>...</td>\n",
       "      <td>...</td>\n",
       "      <td>...</td>\n",
       "      <td>...</td>\n",
       "      <td>...</td>\n",
       "      <td>...</td>\n",
       "      <td>...</td>\n",
       "      <td>...</td>\n",
       "      <td>...</td>\n",
       "      <td>...</td>\n",
       "      <td>...</td>\n",
       "      <td>...</td>\n",
       "      <td>...</td>\n",
       "      <td>...</td>\n",
       "      <td>...</td>\n",
       "      <td>...</td>\n",
       "      <td>...</td>\n",
       "      <td>...</td>\n",
       "      <td>...</td>\n",
       "    </tr>\n",
       "    <tr>\n",
       "      <th>22890</th>\n",
       "      <td>Carlton, Victoria, Australia</td>\n",
       "      <td>f</td>\n",
       "      <td>t</td>\n",
       "      <td>f</td>\n",
       "      <td>Carlton, VIC, Australia</td>\n",
       "      <td>Melbourne</td>\n",
       "      <td>Carlton</td>\n",
       "      <td>VIC</td>\n",
       "      <td>3053.0</td>\n",
       "      <td>Carlton, Australia</td>\n",
       "      <td>t</td>\n",
       "      <td>Apartment</td>\n",
       "      <td>Private room</td>\n",
       "      <td>Real Bed</td>\n",
       "      <td>12/7/2018</td>\n",
       "      <td>t</td>\n",
       "      <td>flexible</td>\n",
       "      <td>f</td>\n",
       "      <td>f</td>\n",
       "    </tr>\n",
       "    <tr>\n",
       "      <th>22891</th>\n",
       "      <td>Melton, Victoria, Australia</td>\n",
       "      <td>f</td>\n",
       "      <td>t</td>\n",
       "      <td>f</td>\n",
       "      <td>Melton South, VIC, Australia</td>\n",
       "      <td>Melton</td>\n",
       "      <td>Melton South</td>\n",
       "      <td>VIC</td>\n",
       "      <td>3338.0</td>\n",
       "      <td>Melton South, Australia</td>\n",
       "      <td>t</td>\n",
       "      <td>House</td>\n",
       "      <td>Entire home/apt</td>\n",
       "      <td>Real Bed</td>\n",
       "      <td>12/7/2018</td>\n",
       "      <td>t</td>\n",
       "      <td>flexible</td>\n",
       "      <td>f</td>\n",
       "      <td>f</td>\n",
       "    </tr>\n",
       "    <tr>\n",
       "      <th>22892</th>\n",
       "      <td>China</td>\n",
       "      <td>f</td>\n",
       "      <td>t</td>\n",
       "      <td>f</td>\n",
       "      <td>Glen Waverley, VIC, Australia</td>\n",
       "      <td>Monash</td>\n",
       "      <td>Glen Waverley</td>\n",
       "      <td>VIC</td>\n",
       "      <td>3150.0</td>\n",
       "      <td>Glen Waverley, Australia</td>\n",
       "      <td>f</td>\n",
       "      <td>Guesthouse</td>\n",
       "      <td>Private room</td>\n",
       "      <td>Real Bed</td>\n",
       "      <td>12/7/2018</td>\n",
       "      <td>t</td>\n",
       "      <td>flexible</td>\n",
       "      <td>f</td>\n",
       "      <td>f</td>\n",
       "    </tr>\n",
       "    <tr>\n",
       "      <th>22893</th>\n",
       "      <td>Melbourne, Victoria, Australia</td>\n",
       "      <td>f</td>\n",
       "      <td>t</td>\n",
       "      <td>f</td>\n",
       "      <td>Southbank, VIC, Australia</td>\n",
       "      <td>Melbourne</td>\n",
       "      <td>Southbank</td>\n",
       "      <td>VIC</td>\n",
       "      <td>3006.0</td>\n",
       "      <td>Southbank, Australia</td>\n",
       "      <td>t</td>\n",
       "      <td>Apartment</td>\n",
       "      <td>Entire home/apt</td>\n",
       "      <td>Real Bed</td>\n",
       "      <td>12/7/2018</td>\n",
       "      <td>t</td>\n",
       "      <td>moderate</td>\n",
       "      <td>f</td>\n",
       "      <td>f</td>\n",
       "    </tr>\n",
       "    <tr>\n",
       "      <th>22894</th>\n",
       "      <td>Gold Coast, Queensland</td>\n",
       "      <td>f</td>\n",
       "      <td>t</td>\n",
       "      <td>t</td>\n",
       "      <td>Carlton, VIC, Australia</td>\n",
       "      <td>Melbourne</td>\n",
       "      <td>Carlton</td>\n",
       "      <td>VIC</td>\n",
       "      <td>3053.0</td>\n",
       "      <td>Carlton, Australia</td>\n",
       "      <td>t</td>\n",
       "      <td>Apartment</td>\n",
       "      <td>Entire home/apt</td>\n",
       "      <td>Real Bed</td>\n",
       "      <td>12/7/2018</td>\n",
       "      <td>t</td>\n",
       "      <td>flexible</td>\n",
       "      <td>f</td>\n",
       "      <td>f</td>\n",
       "    </tr>\n",
       "  </tbody>\n",
       "</table>\n",
       "<p>22501 rows × 19 columns</p>\n",
       "</div>"
      ],
      "text/plain": [
       "                               host_location host_is_superhost  \\\n",
       "0                                         AU                 f   \n",
       "1             Melbourne, Victoria, Australia                 f   \n",
       "2             Melbourne, Victoria, Australia                 t   \n",
       "3             Melbourne, Victoria, Australia                 f   \n",
       "4      Saint Kilda East, Victoria, Australia                 f   \n",
       "...                                      ...               ...   \n",
       "22890           Carlton, Victoria, Australia                 f   \n",
       "22891            Melton, Victoria, Australia                 f   \n",
       "22892                                  China                 f   \n",
       "22893         Melbourne, Victoria, Australia                 f   \n",
       "22894                 Gold Coast, Queensland                 f   \n",
       "\n",
       "      host_has_profile_pic host_identity_verified  \\\n",
       "0                        f                      f   \n",
       "1                        t                      t   \n",
       "2                        t                      t   \n",
       "3                        t                      t   \n",
       "4                        t                      t   \n",
       "...                    ...                    ...   \n",
       "22890                    t                      f   \n",
       "22891                    t                      f   \n",
       "22892                    t                      f   \n",
       "22893                    t                      f   \n",
       "22894                    t                      t   \n",
       "\n",
       "                               street          city          suburb state  \\\n",
       "0             Bulleen, VIC, Australia    Manningham         Bulleen   VIC   \n",
       "1      Brunswick East, VIC, Australia      Moreland  Brunswick East   VIC   \n",
       "2            St Kilda, VIC, Australia  Port Phillip        St Kilda   VIC   \n",
       "3           Thornbury, VIC, Australia       Darebin       Thornbury   VIC   \n",
       "4       St Kilda East, VIC, Australia  Port Phillip   St Kilda East   VIC   \n",
       "...                               ...           ...             ...   ...   \n",
       "22890         Carlton, VIC, Australia     Melbourne         Carlton   VIC   \n",
       "22891    Melton South, VIC, Australia        Melton    Melton South   VIC   \n",
       "22892   Glen Waverley, VIC, Australia        Monash   Glen Waverley   VIC   \n",
       "22893       Southbank, VIC, Australia     Melbourne       Southbank   VIC   \n",
       "22894         Carlton, VIC, Australia     Melbourne         Carlton   VIC   \n",
       "\n",
       "      zipcode             smart_location is_location_exact property_type  \\\n",
       "0        3105         Bulleen, Australia                 f         House   \n",
       "1        3057  Brunswick East, Australia                 t     Apartment   \n",
       "2        3182        St Kilda, Australia                 t     Apartment   \n",
       "3        3071       Thornbury, Australia                 t         House   \n",
       "4        3183   St Kilda East, Australia                 t         House   \n",
       "...       ...                        ...               ...           ...   \n",
       "22890  3053.0         Carlton, Australia                 t     Apartment   \n",
       "22891  3338.0    Melton South, Australia                 t         House   \n",
       "22892  3150.0   Glen Waverley, Australia                 f    Guesthouse   \n",
       "22893  3006.0       Southbank, Australia                 t     Apartment   \n",
       "22894  3053.0         Carlton, Australia                 t     Apartment   \n",
       "\n",
       "             room_type  bed_type calendar_last_scraped instant_bookable  \\\n",
       "0         Private room  Real Bed             12/7/2018                f   \n",
       "1         Private room     Futon             12/7/2018                t   \n",
       "2      Entire home/apt  Real Bed             12/7/2018                f   \n",
       "3         Private room  Real Bed             12/7/2018                f   \n",
       "4         Private room  Real Bed             12/7/2018                f   \n",
       "...                ...       ...                   ...              ...   \n",
       "22890     Private room  Real Bed             12/7/2018                t   \n",
       "22891  Entire home/apt  Real Bed             12/7/2018                t   \n",
       "22892     Private room  Real Bed             12/7/2018                t   \n",
       "22893  Entire home/apt  Real Bed             12/7/2018                t   \n",
       "22894  Entire home/apt  Real Bed             12/7/2018                t   \n",
       "\n",
       "               cancellation_policy require_guest_profile_picture  \\\n",
       "0      strict_14_with_grace_period                             f   \n",
       "1                         moderate                             t   \n",
       "2      strict_14_with_grace_period                             f   \n",
       "3                         moderate                             f   \n",
       "4                         moderate                             f   \n",
       "...                            ...                           ...   \n",
       "22890                     flexible                             f   \n",
       "22891                     flexible                             f   \n",
       "22892                     flexible                             f   \n",
       "22893                     moderate                             f   \n",
       "22894                     flexible                             f   \n",
       "\n",
       "      require_guest_phone_verification  \n",
       "0                                    f  \n",
       "1                                    t  \n",
       "2                                    f  \n",
       "3                                    f  \n",
       "4                                    f  \n",
       "...                                ...  \n",
       "22890                                f  \n",
       "22891                                f  \n",
       "22892                                f  \n",
       "22893                                f  \n",
       "22894                                f  \n",
       "\n",
       "[22501 rows x 19 columns]"
      ]
     },
     "execution_count": 49,
     "metadata": {},
     "output_type": "execute_result"
    }
   ],
   "source": [
    "obj_df"
   ]
  },
  {
   "cell_type": "code",
   "execution_count": 50,
   "metadata": {},
   "outputs": [
    {
     "data": {
      "text/plain": [
       "Index(['host_location', 'host_is_superhost', 'host_has_profile_pic',\n",
       "       'host_identity_verified', 'street', 'city', 'suburb', 'state',\n",
       "       'zipcode', 'smart_location', 'is_location_exact', 'property_type',\n",
       "       'room_type', 'bed_type', 'calendar_last_scraped', 'instant_bookable',\n",
       "       'cancellation_policy', 'require_guest_profile_picture',\n",
       "       'require_guest_phone_verification'],\n",
       "      dtype='object')"
      ]
     },
     "execution_count": 50,
     "metadata": {},
     "output_type": "execute_result"
    }
   ],
   "source": [
    "obj_df.columns "
   ]
  },
  {
   "cell_type": "code",
   "execution_count": 51,
   "metadata": {},
   "outputs": [
    {
     "data": {
      "text/html": [
       "<div>\n",
       "<style scoped>\n",
       "    .dataframe tbody tr th:only-of-type {\n",
       "        vertical-align: middle;\n",
       "    }\n",
       "\n",
       "    .dataframe tbody tr th {\n",
       "        vertical-align: top;\n",
       "    }\n",
       "\n",
       "    .dataframe thead th {\n",
       "        text-align: right;\n",
       "    }\n",
       "</style>\n",
       "<table border=\"1\" class=\"dataframe\">\n",
       "  <thead>\n",
       "    <tr style=\"text-align: right;\">\n",
       "      <th></th>\n",
       "      <th>host_location_10 Gnoorong st Warnett Victoria Australia</th>\n",
       "      <th>host_location_12 Yarkon Way Point Cook 3030 VIC</th>\n",
       "      <th>host_location_51 cuttlefish circuit tarneit 3029</th>\n",
       "      <th>host_location_AU</th>\n",
       "      <th>host_location_AUS</th>\n",
       "      <th>host_location_AUSTRALIA</th>\n",
       "      <th>host_location_Abbotsford, British Columbia, Canada</th>\n",
       "      <th>host_location_Abbotsford, Victoria, Australia</th>\n",
       "      <th>host_location_Aberfeldie, Victoria, Australia</th>\n",
       "      <th>host_location_Addis Ababa, Addis Ababa, Ethiopia</th>\n",
       "      <th>...</th>\n",
       "      <th>cancellation_policy_flexible</th>\n",
       "      <th>cancellation_policy_moderate</th>\n",
       "      <th>cancellation_policy_strict</th>\n",
       "      <th>cancellation_policy_strict_14_with_grace_period</th>\n",
       "      <th>cancellation_policy_super_strict_30</th>\n",
       "      <th>cancellation_policy_super_strict_60</th>\n",
       "      <th>require_guest_profile_picture_f</th>\n",
       "      <th>require_guest_profile_picture_t</th>\n",
       "      <th>require_guest_phone_verification_f</th>\n",
       "      <th>require_guest_phone_verification_t</th>\n",
       "    </tr>\n",
       "  </thead>\n",
       "  <tbody>\n",
       "    <tr>\n",
       "      <th>0</th>\n",
       "      <td>0</td>\n",
       "      <td>0</td>\n",
       "      <td>0</td>\n",
       "      <td>1</td>\n",
       "      <td>0</td>\n",
       "      <td>0</td>\n",
       "      <td>0</td>\n",
       "      <td>0</td>\n",
       "      <td>0</td>\n",
       "      <td>0</td>\n",
       "      <td>...</td>\n",
       "      <td>0</td>\n",
       "      <td>0</td>\n",
       "      <td>0</td>\n",
       "      <td>1</td>\n",
       "      <td>0</td>\n",
       "      <td>0</td>\n",
       "      <td>1</td>\n",
       "      <td>0</td>\n",
       "      <td>1</td>\n",
       "      <td>0</td>\n",
       "    </tr>\n",
       "    <tr>\n",
       "      <th>1</th>\n",
       "      <td>0</td>\n",
       "      <td>0</td>\n",
       "      <td>0</td>\n",
       "      <td>0</td>\n",
       "      <td>0</td>\n",
       "      <td>0</td>\n",
       "      <td>0</td>\n",
       "      <td>0</td>\n",
       "      <td>0</td>\n",
       "      <td>0</td>\n",
       "      <td>...</td>\n",
       "      <td>0</td>\n",
       "      <td>1</td>\n",
       "      <td>0</td>\n",
       "      <td>0</td>\n",
       "      <td>0</td>\n",
       "      <td>0</td>\n",
       "      <td>0</td>\n",
       "      <td>1</td>\n",
       "      <td>0</td>\n",
       "      <td>1</td>\n",
       "    </tr>\n",
       "    <tr>\n",
       "      <th>2</th>\n",
       "      <td>0</td>\n",
       "      <td>0</td>\n",
       "      <td>0</td>\n",
       "      <td>0</td>\n",
       "      <td>0</td>\n",
       "      <td>0</td>\n",
       "      <td>0</td>\n",
       "      <td>0</td>\n",
       "      <td>0</td>\n",
       "      <td>0</td>\n",
       "      <td>...</td>\n",
       "      <td>0</td>\n",
       "      <td>0</td>\n",
       "      <td>0</td>\n",
       "      <td>1</td>\n",
       "      <td>0</td>\n",
       "      <td>0</td>\n",
       "      <td>1</td>\n",
       "      <td>0</td>\n",
       "      <td>1</td>\n",
       "      <td>0</td>\n",
       "    </tr>\n",
       "    <tr>\n",
       "      <th>3</th>\n",
       "      <td>0</td>\n",
       "      <td>0</td>\n",
       "      <td>0</td>\n",
       "      <td>0</td>\n",
       "      <td>0</td>\n",
       "      <td>0</td>\n",
       "      <td>0</td>\n",
       "      <td>0</td>\n",
       "      <td>0</td>\n",
       "      <td>0</td>\n",
       "      <td>...</td>\n",
       "      <td>0</td>\n",
       "      <td>1</td>\n",
       "      <td>0</td>\n",
       "      <td>0</td>\n",
       "      <td>0</td>\n",
       "      <td>0</td>\n",
       "      <td>1</td>\n",
       "      <td>0</td>\n",
       "      <td>1</td>\n",
       "      <td>0</td>\n",
       "    </tr>\n",
       "    <tr>\n",
       "      <th>4</th>\n",
       "      <td>0</td>\n",
       "      <td>0</td>\n",
       "      <td>0</td>\n",
       "      <td>0</td>\n",
       "      <td>0</td>\n",
       "      <td>0</td>\n",
       "      <td>0</td>\n",
       "      <td>0</td>\n",
       "      <td>0</td>\n",
       "      <td>0</td>\n",
       "      <td>...</td>\n",
       "      <td>0</td>\n",
       "      <td>1</td>\n",
       "      <td>0</td>\n",
       "      <td>0</td>\n",
       "      <td>0</td>\n",
       "      <td>0</td>\n",
       "      <td>1</td>\n",
       "      <td>0</td>\n",
       "      <td>1</td>\n",
       "      <td>0</td>\n",
       "    </tr>\n",
       "    <tr>\n",
       "      <th>...</th>\n",
       "      <td>...</td>\n",
       "      <td>...</td>\n",
       "      <td>...</td>\n",
       "      <td>...</td>\n",
       "      <td>...</td>\n",
       "      <td>...</td>\n",
       "      <td>...</td>\n",
       "      <td>...</td>\n",
       "      <td>...</td>\n",
       "      <td>...</td>\n",
       "      <td>...</td>\n",
       "      <td>...</td>\n",
       "      <td>...</td>\n",
       "      <td>...</td>\n",
       "      <td>...</td>\n",
       "      <td>...</td>\n",
       "      <td>...</td>\n",
       "      <td>...</td>\n",
       "      <td>...</td>\n",
       "      <td>...</td>\n",
       "      <td>...</td>\n",
       "    </tr>\n",
       "    <tr>\n",
       "      <th>22890</th>\n",
       "      <td>0</td>\n",
       "      <td>0</td>\n",
       "      <td>0</td>\n",
       "      <td>0</td>\n",
       "      <td>0</td>\n",
       "      <td>0</td>\n",
       "      <td>0</td>\n",
       "      <td>0</td>\n",
       "      <td>0</td>\n",
       "      <td>0</td>\n",
       "      <td>...</td>\n",
       "      <td>1</td>\n",
       "      <td>0</td>\n",
       "      <td>0</td>\n",
       "      <td>0</td>\n",
       "      <td>0</td>\n",
       "      <td>0</td>\n",
       "      <td>1</td>\n",
       "      <td>0</td>\n",
       "      <td>1</td>\n",
       "      <td>0</td>\n",
       "    </tr>\n",
       "    <tr>\n",
       "      <th>22891</th>\n",
       "      <td>0</td>\n",
       "      <td>0</td>\n",
       "      <td>0</td>\n",
       "      <td>0</td>\n",
       "      <td>0</td>\n",
       "      <td>0</td>\n",
       "      <td>0</td>\n",
       "      <td>0</td>\n",
       "      <td>0</td>\n",
       "      <td>0</td>\n",
       "      <td>...</td>\n",
       "      <td>1</td>\n",
       "      <td>0</td>\n",
       "      <td>0</td>\n",
       "      <td>0</td>\n",
       "      <td>0</td>\n",
       "      <td>0</td>\n",
       "      <td>1</td>\n",
       "      <td>0</td>\n",
       "      <td>1</td>\n",
       "      <td>0</td>\n",
       "    </tr>\n",
       "    <tr>\n",
       "      <th>22892</th>\n",
       "      <td>0</td>\n",
       "      <td>0</td>\n",
       "      <td>0</td>\n",
       "      <td>0</td>\n",
       "      <td>0</td>\n",
       "      <td>0</td>\n",
       "      <td>0</td>\n",
       "      <td>0</td>\n",
       "      <td>0</td>\n",
       "      <td>0</td>\n",
       "      <td>...</td>\n",
       "      <td>1</td>\n",
       "      <td>0</td>\n",
       "      <td>0</td>\n",
       "      <td>0</td>\n",
       "      <td>0</td>\n",
       "      <td>0</td>\n",
       "      <td>1</td>\n",
       "      <td>0</td>\n",
       "      <td>1</td>\n",
       "      <td>0</td>\n",
       "    </tr>\n",
       "    <tr>\n",
       "      <th>22893</th>\n",
       "      <td>0</td>\n",
       "      <td>0</td>\n",
       "      <td>0</td>\n",
       "      <td>0</td>\n",
       "      <td>0</td>\n",
       "      <td>0</td>\n",
       "      <td>0</td>\n",
       "      <td>0</td>\n",
       "      <td>0</td>\n",
       "      <td>0</td>\n",
       "      <td>...</td>\n",
       "      <td>0</td>\n",
       "      <td>1</td>\n",
       "      <td>0</td>\n",
       "      <td>0</td>\n",
       "      <td>0</td>\n",
       "      <td>0</td>\n",
       "      <td>1</td>\n",
       "      <td>0</td>\n",
       "      <td>1</td>\n",
       "      <td>0</td>\n",
       "    </tr>\n",
       "    <tr>\n",
       "      <th>22894</th>\n",
       "      <td>0</td>\n",
       "      <td>0</td>\n",
       "      <td>0</td>\n",
       "      <td>0</td>\n",
       "      <td>0</td>\n",
       "      <td>0</td>\n",
       "      <td>0</td>\n",
       "      <td>0</td>\n",
       "      <td>0</td>\n",
       "      <td>0</td>\n",
       "      <td>...</td>\n",
       "      <td>1</td>\n",
       "      <td>0</td>\n",
       "      <td>0</td>\n",
       "      <td>0</td>\n",
       "      <td>0</td>\n",
       "      <td>0</td>\n",
       "      <td>1</td>\n",
       "      <td>0</td>\n",
       "      <td>1</td>\n",
       "      <td>0</td>\n",
       "    </tr>\n",
       "  </tbody>\n",
       "</table>\n",
       "<p>22501 rows × 3281 columns</p>\n",
       "</div>"
      ],
      "text/plain": [
       "       host_location_10 Gnoorong st Warnett Victoria Australia  \\\n",
       "0                                                      0         \n",
       "1                                                      0         \n",
       "2                                                      0         \n",
       "3                                                      0         \n",
       "4                                                      0         \n",
       "...                                                  ...         \n",
       "22890                                                  0         \n",
       "22891                                                  0         \n",
       "22892                                                  0         \n",
       "22893                                                  0         \n",
       "22894                                                  0         \n",
       "\n",
       "       host_location_12 Yarkon Way Point Cook 3030 VIC  \\\n",
       "0                                                    0   \n",
       "1                                                    0   \n",
       "2                                                    0   \n",
       "3                                                    0   \n",
       "4                                                    0   \n",
       "...                                                ...   \n",
       "22890                                                0   \n",
       "22891                                                0   \n",
       "22892                                                0   \n",
       "22893                                                0   \n",
       "22894                                                0   \n",
       "\n",
       "       host_location_51 cuttlefish circuit tarneit 3029  host_location_AU  \\\n",
       "0                                                     0                 1   \n",
       "1                                                     0                 0   \n",
       "2                                                     0                 0   \n",
       "3                                                     0                 0   \n",
       "4                                                     0                 0   \n",
       "...                                                 ...               ...   \n",
       "22890                                                 0                 0   \n",
       "22891                                                 0                 0   \n",
       "22892                                                 0                 0   \n",
       "22893                                                 0                 0   \n",
       "22894                                                 0                 0   \n",
       "\n",
       "       host_location_AUS  host_location_AUSTRALIA  \\\n",
       "0                      0                        0   \n",
       "1                      0                        0   \n",
       "2                      0                        0   \n",
       "3                      0                        0   \n",
       "4                      0                        0   \n",
       "...                  ...                      ...   \n",
       "22890                  0                        0   \n",
       "22891                  0                        0   \n",
       "22892                  0                        0   \n",
       "22893                  0                        0   \n",
       "22894                  0                        0   \n",
       "\n",
       "       host_location_Abbotsford, British Columbia, Canada  \\\n",
       "0                                                      0    \n",
       "1                                                      0    \n",
       "2                                                      0    \n",
       "3                                                      0    \n",
       "4                                                      0    \n",
       "...                                                  ...    \n",
       "22890                                                  0    \n",
       "22891                                                  0    \n",
       "22892                                                  0    \n",
       "22893                                                  0    \n",
       "22894                                                  0    \n",
       "\n",
       "       host_location_Abbotsford, Victoria, Australia  \\\n",
       "0                                                  0   \n",
       "1                                                  0   \n",
       "2                                                  0   \n",
       "3                                                  0   \n",
       "4                                                  0   \n",
       "...                                              ...   \n",
       "22890                                              0   \n",
       "22891                                              0   \n",
       "22892                                              0   \n",
       "22893                                              0   \n",
       "22894                                              0   \n",
       "\n",
       "       host_location_Aberfeldie, Victoria, Australia  \\\n",
       "0                                                  0   \n",
       "1                                                  0   \n",
       "2                                                  0   \n",
       "3                                                  0   \n",
       "4                                                  0   \n",
       "...                                              ...   \n",
       "22890                                              0   \n",
       "22891                                              0   \n",
       "22892                                              0   \n",
       "22893                                              0   \n",
       "22894                                              0   \n",
       "\n",
       "       host_location_Addis Ababa, Addis Ababa, Ethiopia  ...  \\\n",
       "0                                                     0  ...   \n",
       "1                                                     0  ...   \n",
       "2                                                     0  ...   \n",
       "3                                                     0  ...   \n",
       "4                                                     0  ...   \n",
       "...                                                 ...  ...   \n",
       "22890                                                 0  ...   \n",
       "22891                                                 0  ...   \n",
       "22892                                                 0  ...   \n",
       "22893                                                 0  ...   \n",
       "22894                                                 0  ...   \n",
       "\n",
       "       cancellation_policy_flexible  cancellation_policy_moderate  \\\n",
       "0                                 0                             0   \n",
       "1                                 0                             1   \n",
       "2                                 0                             0   \n",
       "3                                 0                             1   \n",
       "4                                 0                             1   \n",
       "...                             ...                           ...   \n",
       "22890                             1                             0   \n",
       "22891                             1                             0   \n",
       "22892                             1                             0   \n",
       "22893                             0                             1   \n",
       "22894                             1                             0   \n",
       "\n",
       "       cancellation_policy_strict  \\\n",
       "0                               0   \n",
       "1                               0   \n",
       "2                               0   \n",
       "3                               0   \n",
       "4                               0   \n",
       "...                           ...   \n",
       "22890                           0   \n",
       "22891                           0   \n",
       "22892                           0   \n",
       "22893                           0   \n",
       "22894                           0   \n",
       "\n",
       "       cancellation_policy_strict_14_with_grace_period  \\\n",
       "0                                                    1   \n",
       "1                                                    0   \n",
       "2                                                    1   \n",
       "3                                                    0   \n",
       "4                                                    0   \n",
       "...                                                ...   \n",
       "22890                                                0   \n",
       "22891                                                0   \n",
       "22892                                                0   \n",
       "22893                                                0   \n",
       "22894                                                0   \n",
       "\n",
       "       cancellation_policy_super_strict_30  \\\n",
       "0                                        0   \n",
       "1                                        0   \n",
       "2                                        0   \n",
       "3                                        0   \n",
       "4                                        0   \n",
       "...                                    ...   \n",
       "22890                                    0   \n",
       "22891                                    0   \n",
       "22892                                    0   \n",
       "22893                                    0   \n",
       "22894                                    0   \n",
       "\n",
       "       cancellation_policy_super_strict_60  require_guest_profile_picture_f  \\\n",
       "0                                        0                                1   \n",
       "1                                        0                                0   \n",
       "2                                        0                                1   \n",
       "3                                        0                                1   \n",
       "4                                        0                                1   \n",
       "...                                    ...                              ...   \n",
       "22890                                    0                                1   \n",
       "22891                                    0                                1   \n",
       "22892                                    0                                1   \n",
       "22893                                    0                                1   \n",
       "22894                                    0                                1   \n",
       "\n",
       "       require_guest_profile_picture_t  require_guest_phone_verification_f  \\\n",
       "0                                    0                                   1   \n",
       "1                                    1                                   0   \n",
       "2                                    0                                   1   \n",
       "3                                    0                                   1   \n",
       "4                                    0                                   1   \n",
       "...                                ...                                 ...   \n",
       "22890                                0                                   1   \n",
       "22891                                0                                   1   \n",
       "22892                                0                                   1   \n",
       "22893                                0                                   1   \n",
       "22894                                0                                   1   \n",
       "\n",
       "       require_guest_phone_verification_t  \n",
       "0                                       0  \n",
       "1                                       1  \n",
       "2                                       0  \n",
       "3                                       0  \n",
       "4                                       0  \n",
       "...                                   ...  \n",
       "22890                                   0  \n",
       "22891                                   0  \n",
       "22892                                   0  \n",
       "22893                                   0  \n",
       "22894                                   0  \n",
       "\n",
       "[22501 rows x 3281 columns]"
      ]
     },
     "execution_count": 51,
     "metadata": {},
     "output_type": "execute_result"
    }
   ],
   "source": [
    "pd.get_dummies(obj_df)"
   ]
  },
  {
   "cell_type": "code",
   "execution_count": 52,
   "metadata": {},
   "outputs": [
    {
     "name": "stdout",
     "output_type": "stream",
     "text": [
      "host_location\n",
      "street\n",
      "suburb\n",
      "zipcode\n",
      "smart_location\n"
     ]
    }
   ],
   "source": [
    "# Observe that there are above 3000 newly created features, in order to decrease the number of features, remove all \n",
    "# features that would add more than 100 new features.\n",
    "\n",
    "for a in obj_df.columns:\n",
    "    if obj_df[a].unique().size > 100:\n",
    "        obj_df = obj_df.drop(columns = [a])\n",
    "        print (a)\n",
    "        "
   ]
  },
  {
   "cell_type": "code",
   "execution_count": 53,
   "metadata": {},
   "outputs": [
    {
     "data": {
      "text/html": [
       "<div>\n",
       "<style scoped>\n",
       "    .dataframe tbody tr th:only-of-type {\n",
       "        vertical-align: middle;\n",
       "    }\n",
       "\n",
       "    .dataframe tbody tr th {\n",
       "        vertical-align: top;\n",
       "    }\n",
       "\n",
       "    .dataframe thead th {\n",
       "        text-align: right;\n",
       "    }\n",
       "</style>\n",
       "<table border=\"1\" class=\"dataframe\">\n",
       "  <thead>\n",
       "    <tr style=\"text-align: right;\">\n",
       "      <th></th>\n",
       "      <th>host_is_superhost_f</th>\n",
       "      <th>host_is_superhost_t</th>\n",
       "      <th>host_has_profile_pic_f</th>\n",
       "      <th>host_has_profile_pic_t</th>\n",
       "      <th>host_identity_verified_f</th>\n",
       "      <th>host_identity_verified_t</th>\n",
       "      <th>city_Banyule</th>\n",
       "      <th>city_Bayside</th>\n",
       "      <th>city_Boroondara</th>\n",
       "      <th>city_Brimbank</th>\n",
       "      <th>...</th>\n",
       "      <th>cancellation_policy_flexible</th>\n",
       "      <th>cancellation_policy_moderate</th>\n",
       "      <th>cancellation_policy_strict</th>\n",
       "      <th>cancellation_policy_strict_14_with_grace_period</th>\n",
       "      <th>cancellation_policy_super_strict_30</th>\n",
       "      <th>cancellation_policy_super_strict_60</th>\n",
       "      <th>require_guest_profile_picture_f</th>\n",
       "      <th>require_guest_profile_picture_t</th>\n",
       "      <th>require_guest_phone_verification_f</th>\n",
       "      <th>require_guest_phone_verification_t</th>\n",
       "    </tr>\n",
       "  </thead>\n",
       "  <tbody>\n",
       "    <tr>\n",
       "      <th>0</th>\n",
       "      <td>1</td>\n",
       "      <td>0</td>\n",
       "      <td>1</td>\n",
       "      <td>0</td>\n",
       "      <td>1</td>\n",
       "      <td>0</td>\n",
       "      <td>0</td>\n",
       "      <td>0</td>\n",
       "      <td>0</td>\n",
       "      <td>0</td>\n",
       "      <td>...</td>\n",
       "      <td>0</td>\n",
       "      <td>0</td>\n",
       "      <td>0</td>\n",
       "      <td>1</td>\n",
       "      <td>0</td>\n",
       "      <td>0</td>\n",
       "      <td>1</td>\n",
       "      <td>0</td>\n",
       "      <td>1</td>\n",
       "      <td>0</td>\n",
       "    </tr>\n",
       "    <tr>\n",
       "      <th>1</th>\n",
       "      <td>1</td>\n",
       "      <td>0</td>\n",
       "      <td>0</td>\n",
       "      <td>1</td>\n",
       "      <td>0</td>\n",
       "      <td>1</td>\n",
       "      <td>0</td>\n",
       "      <td>0</td>\n",
       "      <td>0</td>\n",
       "      <td>0</td>\n",
       "      <td>...</td>\n",
       "      <td>0</td>\n",
       "      <td>1</td>\n",
       "      <td>0</td>\n",
       "      <td>0</td>\n",
       "      <td>0</td>\n",
       "      <td>0</td>\n",
       "      <td>0</td>\n",
       "      <td>1</td>\n",
       "      <td>0</td>\n",
       "      <td>1</td>\n",
       "    </tr>\n",
       "    <tr>\n",
       "      <th>2</th>\n",
       "      <td>0</td>\n",
       "      <td>1</td>\n",
       "      <td>0</td>\n",
       "      <td>1</td>\n",
       "      <td>0</td>\n",
       "      <td>1</td>\n",
       "      <td>0</td>\n",
       "      <td>0</td>\n",
       "      <td>0</td>\n",
       "      <td>0</td>\n",
       "      <td>...</td>\n",
       "      <td>0</td>\n",
       "      <td>0</td>\n",
       "      <td>0</td>\n",
       "      <td>1</td>\n",
       "      <td>0</td>\n",
       "      <td>0</td>\n",
       "      <td>1</td>\n",
       "      <td>0</td>\n",
       "      <td>1</td>\n",
       "      <td>0</td>\n",
       "    </tr>\n",
       "    <tr>\n",
       "      <th>3</th>\n",
       "      <td>1</td>\n",
       "      <td>0</td>\n",
       "      <td>0</td>\n",
       "      <td>1</td>\n",
       "      <td>0</td>\n",
       "      <td>1</td>\n",
       "      <td>0</td>\n",
       "      <td>0</td>\n",
       "      <td>0</td>\n",
       "      <td>0</td>\n",
       "      <td>...</td>\n",
       "      <td>0</td>\n",
       "      <td>1</td>\n",
       "      <td>0</td>\n",
       "      <td>0</td>\n",
       "      <td>0</td>\n",
       "      <td>0</td>\n",
       "      <td>1</td>\n",
       "      <td>0</td>\n",
       "      <td>1</td>\n",
       "      <td>0</td>\n",
       "    </tr>\n",
       "    <tr>\n",
       "      <th>4</th>\n",
       "      <td>1</td>\n",
       "      <td>0</td>\n",
       "      <td>0</td>\n",
       "      <td>1</td>\n",
       "      <td>0</td>\n",
       "      <td>1</td>\n",
       "      <td>0</td>\n",
       "      <td>0</td>\n",
       "      <td>0</td>\n",
       "      <td>0</td>\n",
       "      <td>...</td>\n",
       "      <td>0</td>\n",
       "      <td>1</td>\n",
       "      <td>0</td>\n",
       "      <td>0</td>\n",
       "      <td>0</td>\n",
       "      <td>0</td>\n",
       "      <td>1</td>\n",
       "      <td>0</td>\n",
       "      <td>1</td>\n",
       "      <td>0</td>\n",
       "    </tr>\n",
       "    <tr>\n",
       "      <th>...</th>\n",
       "      <td>...</td>\n",
       "      <td>...</td>\n",
       "      <td>...</td>\n",
       "      <td>...</td>\n",
       "      <td>...</td>\n",
       "      <td>...</td>\n",
       "      <td>...</td>\n",
       "      <td>...</td>\n",
       "      <td>...</td>\n",
       "      <td>...</td>\n",
       "      <td>...</td>\n",
       "      <td>...</td>\n",
       "      <td>...</td>\n",
       "      <td>...</td>\n",
       "      <td>...</td>\n",
       "      <td>...</td>\n",
       "      <td>...</td>\n",
       "      <td>...</td>\n",
       "      <td>...</td>\n",
       "      <td>...</td>\n",
       "      <td>...</td>\n",
       "    </tr>\n",
       "    <tr>\n",
       "      <th>22890</th>\n",
       "      <td>1</td>\n",
       "      <td>0</td>\n",
       "      <td>0</td>\n",
       "      <td>1</td>\n",
       "      <td>1</td>\n",
       "      <td>0</td>\n",
       "      <td>0</td>\n",
       "      <td>0</td>\n",
       "      <td>0</td>\n",
       "      <td>0</td>\n",
       "      <td>...</td>\n",
       "      <td>1</td>\n",
       "      <td>0</td>\n",
       "      <td>0</td>\n",
       "      <td>0</td>\n",
       "      <td>0</td>\n",
       "      <td>0</td>\n",
       "      <td>1</td>\n",
       "      <td>0</td>\n",
       "      <td>1</td>\n",
       "      <td>0</td>\n",
       "    </tr>\n",
       "    <tr>\n",
       "      <th>22891</th>\n",
       "      <td>1</td>\n",
       "      <td>0</td>\n",
       "      <td>0</td>\n",
       "      <td>1</td>\n",
       "      <td>1</td>\n",
       "      <td>0</td>\n",
       "      <td>0</td>\n",
       "      <td>0</td>\n",
       "      <td>0</td>\n",
       "      <td>0</td>\n",
       "      <td>...</td>\n",
       "      <td>1</td>\n",
       "      <td>0</td>\n",
       "      <td>0</td>\n",
       "      <td>0</td>\n",
       "      <td>0</td>\n",
       "      <td>0</td>\n",
       "      <td>1</td>\n",
       "      <td>0</td>\n",
       "      <td>1</td>\n",
       "      <td>0</td>\n",
       "    </tr>\n",
       "    <tr>\n",
       "      <th>22892</th>\n",
       "      <td>1</td>\n",
       "      <td>0</td>\n",
       "      <td>0</td>\n",
       "      <td>1</td>\n",
       "      <td>1</td>\n",
       "      <td>0</td>\n",
       "      <td>0</td>\n",
       "      <td>0</td>\n",
       "      <td>0</td>\n",
       "      <td>0</td>\n",
       "      <td>...</td>\n",
       "      <td>1</td>\n",
       "      <td>0</td>\n",
       "      <td>0</td>\n",
       "      <td>0</td>\n",
       "      <td>0</td>\n",
       "      <td>0</td>\n",
       "      <td>1</td>\n",
       "      <td>0</td>\n",
       "      <td>1</td>\n",
       "      <td>0</td>\n",
       "    </tr>\n",
       "    <tr>\n",
       "      <th>22893</th>\n",
       "      <td>1</td>\n",
       "      <td>0</td>\n",
       "      <td>0</td>\n",
       "      <td>1</td>\n",
       "      <td>1</td>\n",
       "      <td>0</td>\n",
       "      <td>0</td>\n",
       "      <td>0</td>\n",
       "      <td>0</td>\n",
       "      <td>0</td>\n",
       "      <td>...</td>\n",
       "      <td>0</td>\n",
       "      <td>1</td>\n",
       "      <td>0</td>\n",
       "      <td>0</td>\n",
       "      <td>0</td>\n",
       "      <td>0</td>\n",
       "      <td>1</td>\n",
       "      <td>0</td>\n",
       "      <td>1</td>\n",
       "      <td>0</td>\n",
       "    </tr>\n",
       "    <tr>\n",
       "      <th>22894</th>\n",
       "      <td>1</td>\n",
       "      <td>0</td>\n",
       "      <td>0</td>\n",
       "      <td>1</td>\n",
       "      <td>0</td>\n",
       "      <td>1</td>\n",
       "      <td>0</td>\n",
       "      <td>0</td>\n",
       "      <td>0</td>\n",
       "      <td>0</td>\n",
       "      <td>...</td>\n",
       "      <td>1</td>\n",
       "      <td>0</td>\n",
       "      <td>0</td>\n",
       "      <td>0</td>\n",
       "      <td>0</td>\n",
       "      <td>0</td>\n",
       "      <td>1</td>\n",
       "      <td>0</td>\n",
       "      <td>1</td>\n",
       "      <td>0</td>\n",
       "    </tr>\n",
       "  </tbody>\n",
       "</table>\n",
       "<p>22501 rows × 121 columns</p>\n",
       "</div>"
      ],
      "text/plain": [
       "       host_is_superhost_f  host_is_superhost_t  host_has_profile_pic_f  \\\n",
       "0                        1                    0                       1   \n",
       "1                        1                    0                       0   \n",
       "2                        0                    1                       0   \n",
       "3                        1                    0                       0   \n",
       "4                        1                    0                       0   \n",
       "...                    ...                  ...                     ...   \n",
       "22890                    1                    0                       0   \n",
       "22891                    1                    0                       0   \n",
       "22892                    1                    0                       0   \n",
       "22893                    1                    0                       0   \n",
       "22894                    1                    0                       0   \n",
       "\n",
       "       host_has_profile_pic_t  host_identity_verified_f  \\\n",
       "0                           0                         1   \n",
       "1                           1                         0   \n",
       "2                           1                         0   \n",
       "3                           1                         0   \n",
       "4                           1                         0   \n",
       "...                       ...                       ...   \n",
       "22890                       1                         1   \n",
       "22891                       1                         1   \n",
       "22892                       1                         1   \n",
       "22893                       1                         1   \n",
       "22894                       1                         0   \n",
       "\n",
       "       host_identity_verified_t  city_Banyule  city_Bayside  city_Boroondara  \\\n",
       "0                             0             0             0                0   \n",
       "1                             1             0             0                0   \n",
       "2                             1             0             0                0   \n",
       "3                             1             0             0                0   \n",
       "4                             1             0             0                0   \n",
       "...                         ...           ...           ...              ...   \n",
       "22890                         0             0             0                0   \n",
       "22891                         0             0             0                0   \n",
       "22892                         0             0             0                0   \n",
       "22893                         0             0             0                0   \n",
       "22894                         1             0             0                0   \n",
       "\n",
       "       city_Brimbank  ...  cancellation_policy_flexible  \\\n",
       "0                  0  ...                             0   \n",
       "1                  0  ...                             0   \n",
       "2                  0  ...                             0   \n",
       "3                  0  ...                             0   \n",
       "4                  0  ...                             0   \n",
       "...              ...  ...                           ...   \n",
       "22890              0  ...                             1   \n",
       "22891              0  ...                             1   \n",
       "22892              0  ...                             1   \n",
       "22893              0  ...                             0   \n",
       "22894              0  ...                             1   \n",
       "\n",
       "       cancellation_policy_moderate  cancellation_policy_strict  \\\n",
       "0                                 0                           0   \n",
       "1                                 1                           0   \n",
       "2                                 0                           0   \n",
       "3                                 1                           0   \n",
       "4                                 1                           0   \n",
       "...                             ...                         ...   \n",
       "22890                             0                           0   \n",
       "22891                             0                           0   \n",
       "22892                             0                           0   \n",
       "22893                             1                           0   \n",
       "22894                             0                           0   \n",
       "\n",
       "       cancellation_policy_strict_14_with_grace_period  \\\n",
       "0                                                    1   \n",
       "1                                                    0   \n",
       "2                                                    1   \n",
       "3                                                    0   \n",
       "4                                                    0   \n",
       "...                                                ...   \n",
       "22890                                                0   \n",
       "22891                                                0   \n",
       "22892                                                0   \n",
       "22893                                                0   \n",
       "22894                                                0   \n",
       "\n",
       "       cancellation_policy_super_strict_30  \\\n",
       "0                                        0   \n",
       "1                                        0   \n",
       "2                                        0   \n",
       "3                                        0   \n",
       "4                                        0   \n",
       "...                                    ...   \n",
       "22890                                    0   \n",
       "22891                                    0   \n",
       "22892                                    0   \n",
       "22893                                    0   \n",
       "22894                                    0   \n",
       "\n",
       "       cancellation_policy_super_strict_60  require_guest_profile_picture_f  \\\n",
       "0                                        0                                1   \n",
       "1                                        0                                0   \n",
       "2                                        0                                1   \n",
       "3                                        0                                1   \n",
       "4                                        0                                1   \n",
       "...                                    ...                              ...   \n",
       "22890                                    0                                1   \n",
       "22891                                    0                                1   \n",
       "22892                                    0                                1   \n",
       "22893                                    0                                1   \n",
       "22894                                    0                                1   \n",
       "\n",
       "       require_guest_profile_picture_t  require_guest_phone_verification_f  \\\n",
       "0                                    0                                   1   \n",
       "1                                    1                                   0   \n",
       "2                                    0                                   1   \n",
       "3                                    0                                   1   \n",
       "4                                    0                                   1   \n",
       "...                                ...                                 ...   \n",
       "22890                                0                                   1   \n",
       "22891                                0                                   1   \n",
       "22892                                0                                   1   \n",
       "22893                                0                                   1   \n",
       "22894                                0                                   1   \n",
       "\n",
       "       require_guest_phone_verification_t  \n",
       "0                                       0  \n",
       "1                                       1  \n",
       "2                                       0  \n",
       "3                                       0  \n",
       "4                                       0  \n",
       "...                                   ...  \n",
       "22890                                   0  \n",
       "22891                                   0  \n",
       "22892                                   0  \n",
       "22893                                   0  \n",
       "22894                                   0  \n",
       "\n",
       "[22501 rows x 121 columns]"
      ]
     },
     "execution_count": 53,
     "metadata": {},
     "output_type": "execute_result"
    }
   ],
   "source": [
    "obj_df = pd.get_dummies(obj_df)\n",
    "\n",
    "obj_df"
   ]
  },
  {
   "cell_type": "code",
   "execution_count": 54,
   "metadata": {},
   "outputs": [],
   "source": [
    "data = data.drop(columns = object_columns) #removing object columns that have generated new \"dummy\" features"
   ]
  },
  {
   "cell_type": "code",
   "execution_count": 55,
   "metadata": {},
   "outputs": [],
   "source": [
    "# Join numerical features with newly generated features, and create target dataframe y\n",
    "\n",
    "df = pd.concat([data, obj_df], axis=1, join=\"inner\")\n",
    "df\n",
    "y = df['price']\n",
    "df = df.drop(columns = ['price'])"
   ]
  },
  {
   "cell_type": "code",
   "execution_count": 56,
   "metadata": {},
   "outputs": [],
   "source": [
    "#splitting the dataset into 70%, 15% and 15% entries for training, valiation and test sets respectively.\n",
    "\n",
    "x_train_val, x_test, y_train_val, y_test = model_selection.train_test_split(df, y, test_size = 0.15, random_state = 7)\n",
    "\n",
    "x_train, x_val, y_train, y_val = model_selection.train_test_split(x_train_val, y_train_val, test_size = 0.176, random_state = 7)"
   ]
  },
  {
   "cell_type": "markdown",
   "metadata": {},
   "source": [
    "To prevent overfitting, we perform feature selection by LASSO"
   ]
  },
  {
   "cell_type": "code",
   "execution_count": 57,
   "metadata": {},
   "outputs": [],
   "source": [
    "pipeline = Pipeline([\n",
    "                     ('scaler',StandardScaler()),\n",
    "                     ('model',Lasso())\n",
    "])"
   ]
  },
  {
   "cell_type": "code",
   "execution_count": 58,
   "metadata": {},
   "outputs": [],
   "source": [
    "search = GridSearchCV(pipeline,\n",
    "                      {'model__alpha':np.arange(0.1,10,0.5)},\n",
    "                      cv = 5, scoring=\"neg_mean_squared_error\",verbose=3\n",
    "                      )"
   ]
  },
  {
   "cell_type": "code",
   "execution_count": 59,
   "metadata": {},
   "outputs": [
    {
     "name": "stdout",
     "output_type": "stream",
     "text": [
      "Fitting 5 folds for each of 20 candidates, totalling 100 fits\n",
      "[CV 1/5] END ..............model__alpha=0.1;, score=-7431.520 total time=   4.0s\n",
      "[CV 2/5] END ..............model__alpha=0.1;, score=-7381.793 total time=  12.8s\n",
      "[CV 3/5] END .............model__alpha=0.1;, score=-15563.793 total time=   4.0s\n",
      "[CV 4/5] END ..............model__alpha=0.1;, score=-7758.034 total time=  19.0s\n",
      "[CV 5/5] END ..............model__alpha=0.1;, score=-7914.976 total time=  15.7s\n",
      "[CV 1/5] END ..............model__alpha=0.6;, score=-7436.502 total time=   0.9s\n",
      "[CV 2/5] END ..............model__alpha=0.6;, score=-7357.561 total time=   1.0s\n",
      "[CV 3/5] END ..............model__alpha=0.6;, score=-6619.156 total time=   0.9s\n",
      "[CV 4/5] END ..............model__alpha=0.6;, score=-7767.203 total time=   0.8s\n",
      "[CV 5/5] END ..............model__alpha=0.6;, score=-7970.018 total time=   0.9s\n",
      "[CV 1/5] END ..............model__alpha=1.1;, score=-7456.184 total time=   0.5s\n",
      "[CV 2/5] END ..............model__alpha=1.1;, score=-7394.232 total time=   0.5s\n",
      "[CV 3/5] END ..............model__alpha=1.1;, score=-6674.393 total time=   0.4s\n",
      "[CV 4/5] END ..............model__alpha=1.1;, score=-7813.672 total time=   0.5s\n",
      "[CV 5/5] END ..............model__alpha=1.1;, score=-8051.512 total time=   0.5s\n",
      "[CV 1/5] END ..............model__alpha=1.6;, score=-7496.111 total time=   0.3s\n",
      "[CV 2/5] END ..............model__alpha=1.6;, score=-7443.956 total time=   0.4s\n",
      "[CV 3/5] END ..............model__alpha=1.6;, score=-6740.666 total time=   0.3s\n",
      "[CV 4/5] END ..............model__alpha=1.6;, score=-7875.767 total time=   0.4s\n",
      "[CV 5/5] END ..............model__alpha=1.6;, score=-8149.439 total time=   0.3s\n",
      "[CV 1/5] END ..............model__alpha=2.1;, score=-7544.657 total time=   0.3s\n",
      "[CV 2/5] END ..............model__alpha=2.1;, score=-7493.910 total time=   0.3s\n",
      "[CV 3/5] END ..............model__alpha=2.1;, score=-6815.792 total time=   0.3s\n",
      "[CV 4/5] END ..............model__alpha=2.1;, score=-7941.924 total time=   0.3s\n",
      "[CV 5/5] END ..............model__alpha=2.1;, score=-8252.535 total time=   0.3s\n",
      "[CV 1/5] END ..............model__alpha=2.6;, score=-7589.295 total time=   0.3s\n",
      "[CV 2/5] END ..............model__alpha=2.6;, score=-7555.113 total time=   0.3s\n",
      "[CV 3/5] END ..............model__alpha=2.6;, score=-6897.064 total time=   0.3s\n",
      "[CV 4/5] END ..............model__alpha=2.6;, score=-8016.053 total time=   0.3s\n",
      "[CV 5/5] END ..............model__alpha=2.6;, score=-8364.632 total time=   0.3s\n",
      "[CV 1/5] END ..............model__alpha=3.1;, score=-7641.706 total time=   0.3s\n",
      "[CV 2/5] END ..............model__alpha=3.1;, score=-7627.877 total time=   0.3s\n",
      "[CV 3/5] END ..............model__alpha=3.1;, score=-6985.315 total time=   0.3s\n",
      "[CV 4/5] END ..............model__alpha=3.1;, score=-8102.506 total time=   0.3s\n",
      "[CV 5/5] END ..............model__alpha=3.1;, score=-8468.483 total time=   0.2s\n",
      "[CV 1/5] END ..............model__alpha=3.6;, score=-7701.119 total time=   0.2s\n",
      "[CV 2/5] END ..............model__alpha=3.6;, score=-7709.854 total time=   0.2s\n",
      "[CV 3/5] END ..............model__alpha=3.6;, score=-7079.424 total time=   0.3s\n",
      "[CV 4/5] END ..............model__alpha=3.6;, score=-8195.318 total time=   0.2s\n",
      "[CV 5/5] END ..............model__alpha=3.6;, score=-8582.189 total time=   0.2s\n",
      "[CV 1/5] END ..............model__alpha=4.1;, score=-7773.704 total time=   0.2s\n",
      "[CV 2/5] END ..............model__alpha=4.1;, score=-7797.156 total time=   0.2s\n",
      "[CV 3/5] END ..............model__alpha=4.1;, score=-7180.743 total time=   0.2s\n",
      "[CV 4/5] END ..............model__alpha=4.1;, score=-8291.597 total time=   0.2s\n",
      "[CV 5/5] END ..............model__alpha=4.1;, score=-8702.586 total time=   0.2s\n",
      "[CV 1/5] END ..............model__alpha=4.6;, score=-7838.850 total time=   0.2s\n",
      "[CV 2/5] END ..............model__alpha=4.6;, score=-7868.153 total time=   0.2s\n",
      "[CV 3/5] END ..............model__alpha=4.6;, score=-7260.132 total time=   0.2s\n",
      "[CV 4/5] END ..............model__alpha=4.6;, score=-8376.558 total time=   0.2s\n",
      "[CV 5/5] END ..............model__alpha=4.6;, score=-8792.209 total time=   0.2s\n",
      "[CV 1/5] END ..............model__alpha=5.1;, score=-7882.423 total time=   0.2s\n",
      "[CV 2/5] END ..............model__alpha=5.1;, score=-7907.603 total time=   0.2s\n",
      "[CV 3/5] END ..............model__alpha=5.1;, score=-7328.783 total time=   0.2s\n",
      "[CV 4/5] END ..............model__alpha=5.1;, score=-8443.356 total time=   0.2s\n",
      "[CV 5/5] END ..............model__alpha=5.1;, score=-8877.040 total time=   0.2s\n",
      "[CV 1/5] END ..............model__alpha=5.6;, score=-7928.564 total time=   0.2s\n",
      "[CV 2/5] END ..............model__alpha=5.6;, score=-7944.487 total time=   0.2s\n",
      "[CV 3/5] END ..............model__alpha=5.6;, score=-7397.650 total time=   0.2s\n",
      "[CV 4/5] END ..............model__alpha=5.6;, score=-8509.384 total time=   0.2s\n",
      "[CV 5/5] END ..............model__alpha=5.6;, score=-8947.074 total time=   0.2s\n",
      "[CV 1/5] END ..............model__alpha=6.1;, score=-7962.625 total time=   0.2s\n",
      "[CV 2/5] END ..............model__alpha=6.1;, score=-7982.106 total time=   0.2s\n",
      "[CV 3/5] END ..............model__alpha=6.1;, score=-7459.180 total time=   0.2s\n",
      "[CV 4/5] END ..............model__alpha=6.1;, score=-8577.018 total time=   0.2s\n",
      "[CV 5/5] END ..............model__alpha=6.1;, score=-9004.993 total time=   0.2s\n",
      "[CV 1/5] END ..............model__alpha=6.6;, score=-7994.748 total time=   0.2s\n",
      "[CV 2/5] END ..............model__alpha=6.6;, score=-8016.571 total time=   0.2s\n",
      "[CV 3/5] END ..............model__alpha=6.6;, score=-7515.200 total time=   0.2s\n",
      "[CV 4/5] END ..............model__alpha=6.6;, score=-8642.089 total time=   0.2s\n",
      "[CV 5/5] END ..............model__alpha=6.6;, score=-9061.743 total time=   0.2s\n",
      "[CV 1/5] END ..............model__alpha=7.1;, score=-8025.725 total time=   0.2s\n",
      "[CV 2/5] END ..............model__alpha=7.1;, score=-8046.578 total time=   0.2s\n",
      "[CV 3/5] END ..............model__alpha=7.1;, score=-7568.106 total time=   0.2s\n",
      "[CV 4/5] END ..............model__alpha=7.1;, score=-8701.815 total time=   0.2s\n",
      "[CV 5/5] END ..............model__alpha=7.1;, score=-9119.354 total time=   0.2s\n",
      "[CV 1/5] END ..............model__alpha=7.6;, score=-8054.241 total time=   0.2s\n",
      "[CV 2/5] END ..............model__alpha=7.6;, score=-8079.588 total time=   0.2s\n",
      "[CV 3/5] END ..............model__alpha=7.6;, score=-7624.346 total time=   0.2s\n",
      "[CV 4/5] END ..............model__alpha=7.6;, score=-8753.130 total time=   0.2s\n",
      "[CV 5/5] END ..............model__alpha=7.6;, score=-9172.202 total time=   0.2s\n",
      "[CV 1/5] END ..............model__alpha=8.1;, score=-8083.617 total time=   0.2s\n",
      "[CV 2/5] END ..............model__alpha=8.1;, score=-8113.513 total time=   0.2s\n",
      "[CV 3/5] END ..............model__alpha=8.1;, score=-7683.982 total time=   0.2s\n",
      "[CV 4/5] END ..............model__alpha=8.1;, score=-8797.135 total time=   0.2s\n",
      "[CV 5/5] END ..............model__alpha=8.1;, score=-9227.452 total time=   0.2s\n",
      "[CV 1/5] END ..............model__alpha=8.6;, score=-8116.674 total time=   0.2s\n",
      "[CV 2/5] END ..............model__alpha=8.6;, score=-8144.491 total time=   0.2s\n",
      "[CV 3/5] END ..............model__alpha=8.6;, score=-7747.016 total time=   0.2s\n",
      "[CV 4/5] END ..............model__alpha=8.6;, score=-8843.514 total time=   0.2s\n",
      "[CV 5/5] END ..............model__alpha=8.6;, score=-9285.740 total time=   0.2s\n",
      "[CV 1/5] END ..............model__alpha=9.1;, score=-8152.576 total time=   0.2s\n",
      "[CV 2/5] END ..............model__alpha=9.1;, score=-8172.237 total time=   0.2s\n",
      "[CV 3/5] END ..............model__alpha=9.1;, score=-7810.217 total time=   0.2s\n",
      "[CV 4/5] END ..............model__alpha=9.1;, score=-8892.265 total time=   0.2s\n",
      "[CV 5/5] END ..............model__alpha=9.1;, score=-9345.945 total time=   0.2s\n",
      "[CV 1/5] END ..............model__alpha=9.6;, score=-8191.321 total time=   0.2s\n",
      "[CV 2/5] END ..............model__alpha=9.6;, score=-8202.409 total time=   0.2s\n",
      "[CV 3/5] END ..............model__alpha=9.6;, score=-7876.163 total time=   0.2s\n",
      "[CV 4/5] END ..............model__alpha=9.6;, score=-8943.390 total time=   0.2s\n",
      "[CV 5/5] END ..............model__alpha=9.6;, score=-9404.850 total time=   0.2s\n"
     ]
    },
    {
     "data": {
      "text/plain": [
       "GridSearchCV(cv=5,\n",
       "             estimator=Pipeline(steps=[('scaler', StandardScaler()),\n",
       "                                       ('model', Lasso())]),\n",
       "             param_grid={'model__alpha': array([0.1, 0.6, 1.1, 1.6, 2.1, 2.6, 3.1, 3.6, 4.1, 4.6, 5.1, 5.6, 6.1,\n",
       "       6.6, 7.1, 7.6, 8.1, 8.6, 9.1, 9.6])},\n",
       "             scoring='neg_mean_squared_error', verbose=3)"
      ]
     },
     "execution_count": 59,
     "metadata": {},
     "output_type": "execute_result"
    }
   ],
   "source": [
    "search.fit(x_train,y_train)"
   ]
  },
  {
   "cell_type": "code",
   "execution_count": 60,
   "metadata": {},
   "outputs": [
    {
     "data": {
      "text/plain": [
       "{'model__alpha': 0.6}"
      ]
     },
     "execution_count": 60,
     "metadata": {},
     "output_type": "execute_result"
    }
   ],
   "source": [
    "search.best_params_"
   ]
  },
  {
   "cell_type": "code",
   "execution_count": 61,
   "metadata": {},
   "outputs": [
    {
     "data": {
      "text/plain": [
       "array([ 4.68941715e+00, -7.94422951e+00,  0.00000000e+00, -0.00000000e+00,\n",
       "        1.60579625e+01,  1.98878112e+01,  3.04117261e+01,  0.00000000e+00,\n",
       "        1.36490640e+00,  6.30069031e-01, -1.06928699e+00,  0.00000000e+00,\n",
       "        7.61511960e+00,  1.45612981e+00, -0.00000000e+00,  6.73269580e+00,\n",
       "       -8.63616809e+00,  4.81507171e-01, -2.08868487e+00,  5.77127167e-16,\n",
       "        8.32569967e-02, -4.27074103e-15, -6.12297329e-01,  0.00000000e+00,\n",
       "       -1.72634472e+00,  5.52917635e+00,  6.69101869e-01, -2.18666862e+00,\n",
       "        6.56164835e-01, -0.00000000e+00, -4.97372015e-01, -1.01827965e-01,\n",
       "       -3.25276679e-01, -2.46400688e+00,  0.00000000e+00, -1.81320845e+00,\n",
       "       -6.12137422e-01, -2.02496918e+00, -0.00000000e+00, -1.32395911e+00,\n",
       "       -1.35828540e+00,  1.27166267e+01, -1.12412298e+00, -1.93570747e+00,\n",
       "        0.00000000e+00, -2.07152677e-01,  0.00000000e+00,  1.03491732e+01,\n",
       "        7.48780841e+00, -3.11634287e+00, -1.40798530e+00, -4.03945814e+00,\n",
       "        7.97686485e+00,  1.01001056e+01, -3.55705880e+00,  8.47359930e-01,\n",
       "        0.00000000e+00,  0.00000000e+00,  4.76053068e+00,  0.00000000e+00,\n",
       "        0.00000000e+00, -0.00000000e+00,  0.00000000e+00,  0.00000000e+00,\n",
       "        0.00000000e+00,  0.00000000e+00, -0.00000000e+00, -0.00000000e+00,\n",
       "       -9.89546734e-02,  0.00000000e+00, -3.87203976e-01,  1.91788845e-01,\n",
       "       -0.00000000e+00,  3.88222886e-01,  6.70753219e-01, -2.66042057e-01,\n",
       "       -0.00000000e+00,  0.00000000e+00, -0.00000000e+00,  0.00000000e+00,\n",
       "        0.00000000e+00, -0.00000000e+00,  0.00000000e+00, -1.46717930e+00,\n",
       "        0.00000000e+00,  1.82757567e+00,  1.48704681e+00,  6.39381226e+00,\n",
       "        0.00000000e+00,  4.56465827e-01, -2.16498200e-01, -2.61518859e+00,\n",
       "        0.00000000e+00,  1.68184801e+00, -2.81099324e-01, -0.00000000e+00,\n",
       "       -0.00000000e+00,  0.00000000e+00, -2.17551511e-01, -3.35749802e-01,\n",
       "       -0.00000000e+00, -9.48956111e-01,  1.16717706e+00,  2.37364726e+00,\n",
       "        0.00000000e+00,  4.14677694e-01, -0.00000000e+00, -0.00000000e+00,\n",
       "        8.73075878e-01,  5.26738995e-01,  8.03162340e+00,  0.00000000e+00,\n",
       "       -0.00000000e+00, -2.38691531e-01,  3.24617892e-01,  0.00000000e+00,\n",
       "        1.17301620e-01,  2.36984501e+01, -0.00000000e+00, -3.06782315e+00,\n",
       "       -3.72005906e-02,  0.00000000e+00, -2.20170132e-01, -0.00000000e+00,\n",
       "        2.79744240e-01,  0.00000000e+00, -0.00000000e+00,  2.14306407e+00,\n",
       "       -0.00000000e+00,  0.00000000e+00, -1.76731415e+00, -0.00000000e+00,\n",
       "        0.00000000e+00,  1.13743756e+01,  1.88274070e-02,  1.73187860e+00,\n",
       "       -5.88669710e-15,  0.00000000e+00, -0.00000000e+00])"
      ]
     },
     "execution_count": 61,
     "metadata": {},
     "output_type": "execute_result"
    }
   ],
   "source": [
    "coefficients = search.best_estimator_.named_steps['model'].coef_\n",
    "coefficients"
   ]
  },
  {
   "cell_type": "code",
   "execution_count": 62,
   "metadata": {},
   "outputs": [
    {
     "data": {
      "text/plain": [
       "['host_since',\n",
       " 'host_verifications',\n",
       " 'accommodates',\n",
       " 'bathrooms',\n",
       " 'bedrooms',\n",
       " 'guests_included',\n",
       " 'extra_people',\n",
       " 'minimum_nights',\n",
       " 'availability_30',\n",
       " 'availability_60',\n",
       " 'availability_365',\n",
       " 'number_of_reviews',\n",
       " 'calculated_host_listings_count',\n",
       " 'host_is_superhost_f',\n",
       " 'host_is_superhost_t',\n",
       " 'host_has_profile_pic_f',\n",
       " 'host_has_profile_pic_t',\n",
       " 'host_identity_verified_f',\n",
       " 'city_Banyule',\n",
       " 'city_Bayside',\n",
       " 'city_Boroondara',\n",
       " 'city_Brimbank',\n",
       " 'city_Cardinia',\n",
       " 'city_Darebin',\n",
       " 'city_Frankston',\n",
       " 'city_Glen Eira',\n",
       " 'city_Greater Dandenong',\n",
       " 'city_Hume',\n",
       " 'city_Kingston',\n",
       " 'city_Knox',\n",
       " 'city_Maribyrnong',\n",
       " 'city_Maroondah',\n",
       " 'city_Melbourne',\n",
       " 'city_Melton',\n",
       " 'city_Monash',\n",
       " 'city_Moreland',\n",
       " 'city_Port Phillip',\n",
       " 'city_Stonnington',\n",
       " 'city_Whitehorse',\n",
       " 'city_Whittlesea',\n",
       " 'city_Wyndham',\n",
       " 'city_Yarra',\n",
       " 'city_Yarra Ranges',\n",
       " 'state_Australia',\n",
       " 'state_Brunswick VIC 3056',\n",
       " 'state_Melbourne',\n",
       " 'state_VIC 3008',\n",
       " 'state_Vic',\n",
       " 'state_Victoria',\n",
       " 'state_Wantirna South VIC 3152',\n",
       " 'state_Wheelers Hill VIC 3150',\n",
       " 'state_vic',\n",
       " 'property_type_Apartment',\n",
       " 'property_type_Bed and breakfast',\n",
       " 'property_type_Boat',\n",
       " 'property_type_Boutique hotel',\n",
       " 'property_type_Cabin',\n",
       " 'property_type_Camper/RV',\n",
       " 'property_type_Campsite',\n",
       " 'property_type_Castle',\n",
       " 'property_type_Chalet',\n",
       " 'property_type_Farm stay',\n",
       " 'property_type_Guest suite',\n",
       " 'property_type_Hostel',\n",
       " 'property_type_Hotel',\n",
       " 'property_type_House',\n",
       " 'property_type_Loft',\n",
       " 'property_type_Other',\n",
       " 'property_type_Resort',\n",
       " 'property_type_Serviced apartment',\n",
       " 'property_type_Townhouse',\n",
       " 'property_type_Train',\n",
       " 'property_type_Villa',\n",
       " 'room_type_Entire home/apt',\n",
       " 'room_type_Shared room',\n",
       " 'bed_type_Airbed',\n",
       " 'bed_type_Futon',\n",
       " 'bed_type_Real Bed',\n",
       " 'instant_bookable_f',\n",
       " 'cancellation_policy_moderate',\n",
       " 'cancellation_policy_super_strict_30',\n",
       " 'cancellation_policy_super_strict_60',\n",
       " 'require_guest_profile_picture_f',\n",
       " 'require_guest_profile_picture_t']"
      ]
     },
     "execution_count": 62,
     "metadata": {},
     "output_type": "execute_result"
    }
   ],
   "source": [
    "# Removing features with no importance\n",
    "\n",
    "importance = np.abs(coefficients)\n",
    "importance > 0\n",
    "\n",
    "features = df.columns\n",
    "\n",
    "new_features = list(np.array(features)[importance > 0])\n",
    "new_features # features that will be use in model generation"
   ]
  },
  {
   "cell_type": "code",
   "execution_count": 63,
   "metadata": {},
   "outputs": [],
   "source": [
    "# removing non-important features\n",
    "\n",
    "x_train_sel = x_train[new_features]\n",
    "x_val_sel = x_val[new_features]\n",
    "x_test_sel = x_test[new_features]"
   ]
  },
  {
   "cell_type": "markdown",
   "metadata": {},
   "source": [
    "Linear model"
   ]
  },
  {
   "cell_type": "code",
   "execution_count": 145,
   "metadata": {},
   "outputs": [],
   "source": [
    "lin_model = linear_model.LinearRegression()"
   ]
  },
  {
   "cell_type": "code",
   "execution_count": 146,
   "metadata": {},
   "outputs": [
    {
     "data": {
      "text/plain": [
       "LinearRegression()"
      ]
     },
     "execution_count": 146,
     "metadata": {},
     "output_type": "execute_result"
    }
   ],
   "source": [
    "# Training linear model\n",
    "lin_model.fit(x_train, y_train)"
   ]
  },
  {
   "cell_type": "code",
   "execution_count": 160,
   "metadata": {},
   "outputs": [],
   "source": [
    "# Loading the model created above, skip if the model was trained\n",
    "\n",
    "model_filename = 'models/lin_model.model'    \n",
    "\n",
    "with open(model_filename, 'rb') as pickle_file:\n",
    "    lin_model = pickle.load(pickle_file)"
   ]
  },
  {
   "cell_type": "code",
   "execution_count": 161,
   "metadata": {},
   "outputs": [],
   "source": [
    "y_predicted = lin_model.predict(x_test)"
   ]
  },
  {
   "cell_type": "code",
   "execution_count": 162,
   "metadata": {},
   "outputs": [
    {
     "data": {
      "text/plain": [
       "7058.96005486269"
      ]
     },
     "execution_count": 162,
     "metadata": {},
     "output_type": "execute_result"
    }
   ],
   "source": [
    "# Using mean squared error to evaluate the model\n",
    "\n",
    "lin_model_MSE = metrics.mean_squared_error(y_test, y_predicted)\n",
    "lin_model_MSE "
   ]
  },
  {
   "cell_type": "code",
   "execution_count": 163,
   "metadata": {},
   "outputs": [
    {
     "data": {
      "text/plain": [
       "0.450036716683194"
      ]
     },
     "execution_count": 163,
     "metadata": {},
     "output_type": "execute_result"
    }
   ],
   "source": [
    "# Using r squared to evaluate the model\n",
    "\n",
    "lin_model_r2 = metrics.r2_score(y_test, y_predicted)\n",
    "lin_model_r2 "
   ]
  },
  {
   "cell_type": "code",
   "execution_count": 150,
   "metadata": {},
   "outputs": [],
   "source": [
    "lin_model_sel = linear_model.LinearRegression()"
   ]
  },
  {
   "cell_type": "code",
   "execution_count": 151,
   "metadata": {},
   "outputs": [
    {
     "data": {
      "text/plain": [
       "LinearRegression()"
      ]
     },
     "execution_count": 151,
     "metadata": {},
     "output_type": "execute_result"
    }
   ],
   "source": [
    "# Training linear model with selected features\n",
    "\n",
    "lin_model_sel.fit(x_train_sel, y_train)"
   ]
  },
  {
   "cell_type": "code",
   "execution_count": 165,
   "metadata": {},
   "outputs": [],
   "source": [
    "# Loading the model created above, skip if the model was trained\n",
    "\n",
    "model_filename = 'models/lin_model_sel.model'    \n",
    "\n",
    "with open(model_filename, 'rb') as pickle_file:\n",
    "    lin_model_sel = pickle.load(pickle_file)"
   ]
  },
  {
   "cell_type": "code",
   "execution_count": 166,
   "metadata": {},
   "outputs": [],
   "source": [
    "y_predicted_sel = lin_model_sel.predict(x_test_sel)"
   ]
  },
  {
   "cell_type": "code",
   "execution_count": 167,
   "metadata": {},
   "outputs": [
    {
     "data": {
      "text/plain": [
       "7075.046683140843"
      ]
     },
     "execution_count": 167,
     "metadata": {},
     "output_type": "execute_result"
    }
   ],
   "source": [
    "# Using mean squared error to evaluate the model\n",
    "\n",
    "lin_model_MSE_sel = metrics.mean_squared_error(y_test, y_predicted_sel)\n",
    "lin_model_MSE_sel "
   ]
  },
  {
   "cell_type": "code",
   "execution_count": 154,
   "metadata": {},
   "outputs": [
    {
     "data": {
      "text/plain": [
       "0.4487834081453088"
      ]
     },
     "execution_count": 154,
     "metadata": {},
     "output_type": "execute_result"
    }
   ],
   "source": [
    "# Using r squared to evaluate the model\n",
    "\n",
    "lin_model_r2_sel = metrics.r2_score(y_test, y_predicted_sel)\n",
    "lin_model_r2_sel"
   ]
  },
  {
   "cell_type": "markdown",
   "metadata": {},
   "source": [
    "Ridge Regression"
   ]
  },
  {
   "cell_type": "code",
   "execution_count": 74,
   "metadata": {},
   "outputs": [],
   "source": [
    "ridge_model = Ridge(alpha=1.2) # using alpha = 1.2 as alpha = 1 gave poorly condition matrix"
   ]
  },
  {
   "cell_type": "code",
   "execution_count": 75,
   "metadata": {},
   "outputs": [
    {
     "data": {
      "text/plain": [
       "Ridge(alpha=1.2)"
      ]
     },
     "execution_count": 75,
     "metadata": {},
     "output_type": "execute_result"
    }
   ],
   "source": [
    "# Training ridge model\n",
    "\n",
    "ridge_model.fit(x_train, y_train)"
   ]
  },
  {
   "cell_type": "code",
   "execution_count": 168,
   "metadata": {},
   "outputs": [],
   "source": [
    "# Loading the model created above, skip if the model was trained\n",
    "\n",
    "model_filename = 'models/ridge_model.model'    \n",
    "\n",
    "with open(model_filename, 'rb') as pickle_file:\n",
    "    ridge_model = pickle.load(pickle_file)"
   ]
  },
  {
   "cell_type": "code",
   "execution_count": 169,
   "metadata": {},
   "outputs": [],
   "source": [
    "y_predicted = ridge_model.predict(x_test)"
   ]
  },
  {
   "cell_type": "code",
   "execution_count": 170,
   "metadata": {},
   "outputs": [
    {
     "data": {
      "text/plain": [
       "7047.004476493758"
      ]
     },
     "execution_count": 170,
     "metadata": {},
     "output_type": "execute_result"
    }
   ],
   "source": [
    "# Using mean squared error to evaluate the model\n",
    "\n",
    "ridge_model_MSE = metrics.mean_squared_error(y_test, y_predicted)\n",
    "ridge_model_MSE "
   ]
  },
  {
   "cell_type": "code",
   "execution_count": 78,
   "metadata": {},
   "outputs": [
    {
     "data": {
      "text/plain": [
       "0.45096817529503297"
      ]
     },
     "execution_count": 78,
     "metadata": {},
     "output_type": "execute_result"
    }
   ],
   "source": [
    "# Using r squared to evaluate the model\n",
    "\n",
    "ridge_model_r2 = metrics.r2_score(y_test, y_predicted)\n",
    "ridge_model_r2 "
   ]
  },
  {
   "cell_type": "code",
   "execution_count": 79,
   "metadata": {},
   "outputs": [],
   "source": [
    "ridge_model_sel = Ridge(alpha=1.2) # using alpha = 1.2 as alpha = 1 gave poorly condition matrix"
   ]
  },
  {
   "cell_type": "code",
   "execution_count": 80,
   "metadata": {},
   "outputs": [
    {
     "data": {
      "text/plain": [
       "Ridge(alpha=1.2)"
      ]
     },
     "execution_count": 80,
     "metadata": {},
     "output_type": "execute_result"
    }
   ],
   "source": [
    "# Training ridge model\n",
    "\n",
    "ridge_model_sel.fit(x_train_sel, y_train)"
   ]
  },
  {
   "cell_type": "code",
   "execution_count": 171,
   "metadata": {},
   "outputs": [],
   "source": [
    "# Loading the model created above, skip if the model was trained\n",
    "\n",
    "model_filename = 'models/ridge_model_sel.model'    \n",
    "\n",
    "with open(model_filename, 'rb') as pickle_file:\n",
    "    ridge_model_sel = pickle.load(pickle_file)"
   ]
  },
  {
   "cell_type": "code",
   "execution_count": 82,
   "metadata": {},
   "outputs": [],
   "source": [
    "y_predicted_sel = ridge_model_sel.predict(x_test_sel)"
   ]
  },
  {
   "cell_type": "code",
   "execution_count": 83,
   "metadata": {},
   "outputs": [
    {
     "data": {
      "text/plain": [
       "7062.836209557275"
      ]
     },
     "execution_count": 83,
     "metadata": {},
     "output_type": "execute_result"
    }
   ],
   "source": [
    "# Using mean squared error to evaluate the model\n",
    "\n",
    "ridge_model_MSE_sel = metrics.mean_squared_error(y_test, y_predicted_sel)\n",
    "ridge_model_MSE_sel "
   ]
  },
  {
   "cell_type": "code",
   "execution_count": 84,
   "metadata": {},
   "outputs": [
    {
     "data": {
      "text/plain": [
       "0.4497347256326838"
      ]
     },
     "execution_count": 84,
     "metadata": {},
     "output_type": "execute_result"
    }
   ],
   "source": [
    "# Using r squared to evaluate the model\n",
    "\n",
    "ridge_model_r2_sel = metrics.r2_score(y_test, y_predicted_sel)\n",
    "ridge_model_r2_sel"
   ]
  },
  {
   "cell_type": "markdown",
   "metadata": {},
   "source": [
    " Random Forest"
   ]
  },
  {
   "cell_type": "code",
   "execution_count": 85,
   "metadata": {},
   "outputs": [],
   "source": [
    "# Creating random forest model with n_estimators=70 and max_depth=20 parameters.\n",
    "\n",
    "model_forest = ensemble.RandomForestClassifier(n_estimators=70, max_depth=20, random_state=7)"
   ]
  },
  {
   "cell_type": "code",
   "execution_count": 86,
   "metadata": {},
   "outputs": [
    {
     "data": {
      "text/plain": [
       "RandomForestClassifier(max_depth=20, n_estimators=70, random_state=7)"
      ]
     },
     "execution_count": 86,
     "metadata": {},
     "output_type": "execute_result"
    }
   ],
   "source": [
    "# Training random forest model.\n",
    "\n",
    "model_forest.fit(x_train, y_train)"
   ]
  },
  {
   "cell_type": "code",
   "execution_count": 87,
   "metadata": {},
   "outputs": [],
   "source": [
    "y_predicted = model_forest.predict(x_test)"
   ]
  },
  {
   "cell_type": "code",
   "execution_count": 88,
   "metadata": {},
   "outputs": [
    {
     "data": {
      "text/plain": [
       "6975.393661137441"
      ]
     },
     "execution_count": 88,
     "metadata": {},
     "output_type": "execute_result"
    }
   ],
   "source": [
    "# Using mean squared error to evaluate the model\n",
    "\n",
    "forest_model_MSE = metrics.mean_squared_error(y_test, y_predicted)\n",
    "forest_model_MSE "
   ]
  },
  {
   "cell_type": "code",
   "execution_count": 89,
   "metadata": {},
   "outputs": [
    {
     "data": {
      "text/plain": [
       "0.45654737093125475"
      ]
     },
     "execution_count": 89,
     "metadata": {},
     "output_type": "execute_result"
    }
   ],
   "source": [
    "# Using r squared to evaluate the model\n",
    "\n",
    "forest_model_r2 = metrics.r2_score(y_test, y_predicted)\n",
    "forest_model_r2"
   ]
  },
  {
   "cell_type": "markdown",
   "metadata": {},
   "source": [
    "Gradient Boosting"
   ]
  },
  {
   "cell_type": "code",
   "execution_count": 98,
   "metadata": {},
   "outputs": [],
   "source": [
    "# Creating default gradien boosting model.\n",
    "\n",
    "reg = GradientBoostingRegressor(random_state=7)"
   ]
  },
  {
   "cell_type": "code",
   "execution_count": 99,
   "metadata": {},
   "outputs": [
    {
     "data": {
      "text/plain": [
       "GradientBoostingRegressor(random_state=7)"
      ]
     },
     "execution_count": 99,
     "metadata": {},
     "output_type": "execute_result"
    }
   ],
   "source": [
    "reg.fit(x_train, y_train)"
   ]
  },
  {
   "cell_type": "code",
   "execution_count": 100,
   "metadata": {},
   "outputs": [],
   "source": [
    "y_predicted = reg.predict(x_val)"
   ]
  },
  {
   "cell_type": "code",
   "execution_count": 102,
   "metadata": {},
   "outputs": [
    {
     "data": {
      "text/plain": [
       "0.5584259656440499"
      ]
     },
     "execution_count": 102,
     "metadata": {},
     "output_type": "execute_result"
    }
   ],
   "source": [
    "metrics.r2_score(y_val, y_predicted)"
   ]
  },
  {
   "cell_type": "code",
   "execution_count": 97,
   "metadata": {},
   "outputs": [
    {
     "name": "stdout",
     "output_type": "stream",
     "text": [
      "10\n",
      "50\n",
      "100\n",
      "500\n",
      "1000\n"
     ]
    }
   ],
   "source": [
    "# Tuning the n_estimator parameter, possible values being: 10, 50, 100, 500, 1000; with criterium being maximizing r2 score.\n",
    "\n",
    "r2 = -1\n",
    "\n",
    "n_trees = [10, 50, 100, 500, 1000]\n",
    "for n in n_trees:\n",
    "    model = GradientBoostingRegressor(n_estimators=n, random_state=7)\n",
    "    model.fit(x_train, y_train)\n",
    "    y_predicted = model.predict(x_val)\n",
    "    if metrics.r2_score(y_val, y_predicted) > r2:\n",
    "        r2 = metrics.r2_score(y_val, y_predicted)\n",
    "        n_best = n\n",
    "    print(n)\n",
    "    \n",
    "    "
   ]
  },
  {
   "cell_type": "code",
   "execution_count": 103,
   "metadata": {},
   "outputs": [
    {
     "name": "stdout",
     "output_type": "stream",
     "text": [
      "0.6017391293421989\n",
      "1000\n"
     ]
    }
   ],
   "source": [
    "# n_estimators = 1000 provides best results\n",
    "print(r2)\n",
    "print(n_best)"
   ]
  },
  {
   "cell_type": "code",
   "execution_count": 104,
   "metadata": {},
   "outputs": [
    {
     "name": "stdout",
     "output_type": "stream",
     "text": [
      "0.01\n",
      "0.1\n",
      "1.0\n"
     ]
    }
   ],
   "source": [
    "# Tuning the learning_rate parameter, possible values being: 0.01, 0.1, 1.0; with criterium being maximizing r2 score.\n",
    "\n",
    "r2 = -1\n",
    "\n",
    "for i in [0.01, 0.1, 1.0]:\n",
    "    model = GradientBoostingRegressor(learning_rate=i, n_estimators=n_best, random_state=7)\n",
    "    model.fit(x_train, y_train)\n",
    "    y_predicted = model.predict(x_val)\n",
    "    if metrics.r2_score(y_val, y_predicted) > r2:\n",
    "        r2 = metrics.r2_score(y_val, y_predicted)\n",
    "        i_best = i\n",
    "    print(i)\n"
   ]
  },
  {
   "cell_type": "code",
   "execution_count": 105,
   "metadata": {},
   "outputs": [
    {
     "name": "stdout",
     "output_type": "stream",
     "text": [
      "0.1\n",
      "0.6017391293421989\n"
     ]
    }
   ],
   "source": [
    "# learning_rate = 0.1 provides best results, which happens to be defult value for that parameter\n",
    "print(i_best)\n",
    "print(r2)"
   ]
  },
  {
   "cell_type": "code",
   "execution_count": 106,
   "metadata": {},
   "outputs": [
    {
     "name": "stdout",
     "output_type": "stream",
     "text": [
      "3\n",
      "6\n"
     ]
    }
   ],
   "source": [
    "# Tuning the max_depth parameter, possible values being: 3 and 6; with criterium being maximizing r2 score.\n",
    "\n",
    "r2 = -1\n",
    "\n",
    "for i in [3, 6]:\n",
    "    model = GradientBoostingRegressor(max_depth=i, n_estimators=n_best, random_state=7)\n",
    "    model.fit(x_train, y_train)\n",
    "    y_predicted = model.predict(x_val)\n",
    "    if metrics.r2_score(y_val, y_predicted) > r2:\n",
    "        r2 = metrics.r2_score(y_val, y_predicted)\n",
    "        i_best = i\n",
    "    print(i)"
   ]
  },
  {
   "cell_type": "code",
   "execution_count": 107,
   "metadata": {},
   "outputs": [
    {
     "name": "stdout",
     "output_type": "stream",
     "text": [
      "6\n",
      "0.6184884052243631\n"
     ]
    }
   ],
   "source": [
    "# max_depth = 6 provides best results, which happens to be defult value for that parameter\n",
    "print(i_best)\n",
    "print(r2)"
   ]
  },
  {
   "cell_type": "code",
   "execution_count": 108,
   "metadata": {},
   "outputs": [
    {
     "data": {
      "text/plain": [
       "GradientBoostingRegressor(max_depth=6, n_estimators=1000, random_state=7)"
      ]
     },
     "execution_count": 108,
     "metadata": {},
     "output_type": "execute_result"
    }
   ],
   "source": [
    "# Using parameters which create best the model using gradient boosting.\n",
    "\n",
    "model_Gradient_Boosting = GradientBoostingRegressor(max_depth=i_best, n_estimators=n_best, random_state=7)\n",
    "model_Gradient_Boosting.fit(x_train, y_train)"
   ]
  },
  {
   "cell_type": "code",
   "execution_count": 174,
   "metadata": {},
   "outputs": [],
   "source": [
    "# Loading the model created above, skip if the model was trained\n",
    "\n",
    "model_filename = 'models/model_Gradient_Boosting.model'    \n",
    "\n",
    "with open(model_filename, 'rb') as pickle_file:\n",
    "    model_Gradient_Boosting = pickle.load(pickle_file)"
   ]
  },
  {
   "cell_type": "code",
   "execution_count": 175,
   "metadata": {},
   "outputs": [],
   "source": [
    "y_predicted = model_Gradient_Boosting.predict(x_test)"
   ]
  },
  {
   "cell_type": "code",
   "execution_count": 176,
   "metadata": {},
   "outputs": [
    {
     "data": {
      "text/plain": [
       "0.6323667955251089"
      ]
     },
     "execution_count": 176,
     "metadata": {},
     "output_type": "execute_result"
    }
   ],
   "source": [
    "# Using r squared to evaluate the model\n",
    "\n",
    "gradient_boosting_r2 = metrics.r2_score(y_test, y_predicted)\n",
    "gradient_boosting_r2"
   ]
  },
  {
   "cell_type": "code",
   "execution_count": 177,
   "metadata": {},
   "outputs": [
    {
     "data": {
      "text/plain": [
       "4718.6933818171165"
      ]
     },
     "execution_count": 177,
     "metadata": {},
     "output_type": "execute_result"
    }
   ],
   "source": [
    "# Using mean squared error to evaluate the model\n",
    "\n",
    "gradient_boosting_model_MSE = metrics.mean_squared_error(y_test, y_predicted)\n",
    "gradient_boosting_model_MSE"
   ]
  },
  {
   "cell_type": "markdown",
   "metadata": {},
   "source": [
    "Comparing models"
   ]
  },
  {
   "cell_type": "code",
   "execution_count": 119,
   "metadata": {},
   "outputs": [],
   "source": [
    "Evaluations = {\"Model\" : [\"Linear Regression\", \"Linear Regression Lasso selection\", \"Ridge Regression\", \"Ridge Regression Lasso selection\", \"Random Forest\", \"Gradient Boosting\"], \n",
    "               \"Mean squared error\" : [lin_model_MSE, lin_model_MSE_sel, ridge_model_MSE, ridge_model_MSE_sel, forest_model_MSE, gradient_boosting_model_MSE],\n",
    "               \"R squared\" : [lin_model_r2, lin_model_r2_sel, ridge_model_r2, ridge_model_r2_sel, forest_model_r2,gradient_boosting_r2]}\n",
    "\n",
    "Evaluations_df = pd.DataFrame(Evaluations)"
   ]
  },
  {
   "cell_type": "code",
   "execution_count": 121,
   "metadata": {},
   "outputs": [
    {
     "data": {
      "text/html": [
       "<div>\n",
       "<style scoped>\n",
       "    .dataframe tbody tr th:only-of-type {\n",
       "        vertical-align: middle;\n",
       "    }\n",
       "\n",
       "    .dataframe tbody tr th {\n",
       "        vertical-align: top;\n",
       "    }\n",
       "\n",
       "    .dataframe thead th {\n",
       "        text-align: right;\n",
       "    }\n",
       "</style>\n",
       "<table border=\"1\" class=\"dataframe\">\n",
       "  <thead>\n",
       "    <tr style=\"text-align: right;\">\n",
       "      <th></th>\n",
       "      <th>Model</th>\n",
       "      <th>Mean squared error</th>\n",
       "      <th>R squared</th>\n",
       "    </tr>\n",
       "  </thead>\n",
       "  <tbody>\n",
       "    <tr>\n",
       "      <th>0</th>\n",
       "      <td>Linear Regression</td>\n",
       "      <td>7058.960055</td>\n",
       "      <td>0.450037</td>\n",
       "    </tr>\n",
       "    <tr>\n",
       "      <th>1</th>\n",
       "      <td>Linear Regression Lasso selection</td>\n",
       "      <td>7075.046683</td>\n",
       "      <td>0.448783</td>\n",
       "    </tr>\n",
       "    <tr>\n",
       "      <th>2</th>\n",
       "      <td>Ridge Regression</td>\n",
       "      <td>7047.004476</td>\n",
       "      <td>0.450968</td>\n",
       "    </tr>\n",
       "    <tr>\n",
       "      <th>3</th>\n",
       "      <td>Ridge Regression Lasso selection</td>\n",
       "      <td>7062.836210</td>\n",
       "      <td>0.449735</td>\n",
       "    </tr>\n",
       "    <tr>\n",
       "      <th>4</th>\n",
       "      <td>Random Forest</td>\n",
       "      <td>6975.393661</td>\n",
       "      <td>0.456547</td>\n",
       "    </tr>\n",
       "    <tr>\n",
       "      <th>5</th>\n",
       "      <td>Gradient Boosting</td>\n",
       "      <td>4718.693382</td>\n",
       "      <td>0.632367</td>\n",
       "    </tr>\n",
       "  </tbody>\n",
       "</table>\n",
       "</div>"
      ],
      "text/plain": [
       "                               Model  Mean squared error  R squared\n",
       "0                  Linear Regression         7058.960055   0.450037\n",
       "1  Linear Regression Lasso selection         7075.046683   0.448783\n",
       "2                   Ridge Regression         7047.004476   0.450968\n",
       "3   Ridge Regression Lasso selection         7062.836210   0.449735\n",
       "4                      Random Forest         6975.393661   0.456547\n",
       "5                  Gradient Boosting         4718.693382   0.632367"
      ]
     },
     "execution_count": 121,
     "metadata": {},
     "output_type": "execute_result"
    }
   ],
   "source": [
    "# Gradient boosting provides the best results!\n",
    "\n",
    "Evaluations_df"
   ]
  },
  {
   "cell_type": "code",
   "execution_count": 131,
   "metadata": {},
   "outputs": [
    {
     "data": {
      "image/png": "[encoded data removed]",
      "text/plain": [
       "<Figure size 432x288 with 1 Axes>"
      ]
     },
     "metadata": {
      "needs_background": "light"
     },
     "output_type": "display_data"
    }
   ],
   "source": [
    "# Graphical representation of mean squared error per model considered.\n",
    "\n",
    "Evaluations_df.plot(kind='bar',x='Model',y='Mean squared error', title = \"Mean squared error\")\n",
    "plt.show()"
   ]
  },
  {
   "cell_type": "code",
   "execution_count": 132,
   "metadata": {},
   "outputs": [
    {
     "data": {
      "image/png": "[encoded data removed]",
      "text/plain": [
       "<Figure size 432x288 with 1 Axes>"
      ]
     },
     "metadata": {
      "needs_background": "light"
     },
     "output_type": "display_data"
    }
   ],
   "source": [
    "# Graphical representation of R squared per model considered.\n",
    "\n",
    "Evaluations_df.plot(kind='bar',x='Model',y='R squared', title = \"R squared\")\n",
    "plt.show()"
   ]
  },
  {
   "cell_type": "code",
   "execution_count": 158,
   "metadata": {},
   "outputs": [],
   "source": [
    "# Creating model files in case it is needed to load them\n",
    "\n",
    "\n",
    "model_filename = 'models/lin_model.model'\n",
    "\n",
    "with open(model_filename, 'wb') as pickle_file:\n",
    "    pickle.dump(lin_model, pickle_file)\n",
    "    \n",
    "model_filename = 'models/lin_model_sel.model'\n",
    "\n",
    "with open(model_filename, 'wb') as pickle_file:\n",
    "    pickle.dump(lin_model_sel, pickle_file)\n",
    "    \n",
    "model_filename = 'models/ridge_model.model'\n",
    "\n",
    "with open(model_filename, 'wb') as pickle_file:\n",
    "    pickle.dump(ridge_model, pickle_file)\n",
    "    \n",
    "model_filename = 'models/ridge_model_sel.model'\n",
    "\n",
    "with open(model_filename, 'wb') as pickle_file:\n",
    "    pickle.dump(ridge_model_sel, pickle_file)\n",
    "    \n",
    "model_filename = 'models/model_Gradient_Boosting.model'\n",
    "\n",
    "with open(model_filename, 'wb') as pickle_file:\n",
    "    pickle.dump(model_Gradient_Boosting, pickle_file)"
   ]
  }
 ],
 "metadata": {
  "kernelspec": {
   "display_name": "Python 3",
   "language": "python",
   "name": "python3"
  },
  "language_info": {
   "codemirror_mode": {
    "name": "ipython",
    "version": 3
   },
   "file_extension": ".py",
   "mimetype": "text/x-python",
   "name": "python",
   "nbconvert_exporter": "python",
   "pygments_lexer": "ipython3",
   "version": "3.8.5"
  }
 },
 "nbformat": 4,
 "nbformat_minor": 4
}
